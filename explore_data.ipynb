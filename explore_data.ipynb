{
 "cells": [
  {
   "cell_type": "code",
   "execution_count": 1,
   "metadata": {},
   "outputs": [],
   "source": [
    "import scprep\n",
    "import numpy as np\n",
    "import pickle\n",
    "import matplotlib.pyplot as plt\n",
    "import scanpy as sc"
   ]
  },
  {
   "cell_type": "markdown",
   "metadata": {},
   "source": [
    "# Spatial Data"
   ]
  },
  {
   "cell_type": "code",
   "execution_count": 2,
   "metadata": {},
   "outputs": [],
   "source": [
    "file = open('/data/fenggao/spatial_magan/All_data_experiment_all_ChrCha_Spatial_anndata_list.pkl', 'rb')\n",
    "spatial_data = pickle.load(file)\n",
    "file.close()"
   ]
  },
  {
   "cell_type": "code",
   "execution_count": 4,
   "metadata": {},
   "outputs": [
    {
     "data": {
      "text/plain": [
       "AnnData object with n_obs × n_vars = 178488 × 64591\n",
       "    obs: 'Sample', 'Barcode', 'old_Sample', 'Tissue', 'Replicate', 'cellIDs'\n",
       "    var: 'ID', 'Symbol', 'Type', 'GeneSymbol', 'Organism', 'Ensembl'"
      ]
     },
     "execution_count": 4,
     "metadata": {},
     "output_type": "execute_result"
    }
   ],
   "source": [
    "rna_adata"
   ]
  },
  {
   "cell_type": "code",
   "execution_count": 3,
   "metadata": {},
   "outputs": [
    {
     "data": {
      "text/plain": [
       "AnnData object with n_obs × n_vars = 1415 × 64591\n",
       "    obs: 'in_tissue', 'array_row', 'array_col', 'Sample'\n",
       "    var: 'gene_ids', 'feature_types', 'genome', 'Gene', 'Ensembl'\n",
       "    uns: 'images', 'scalefactors'\n",
       "    obsm: 'X_spatial'"
      ]
     },
     "execution_count": 3,
     "metadata": {},
     "output_type": "execute_result"
    }
   ],
   "source": [
    "s5 = spatial_data[0]\n",
    "s5"
   ]
  },
  {
   "cell_type": "code",
   "execution_count": 6,
   "metadata": {},
   "outputs": [
    {
     "name": "stdout",
     "output_type": "stream",
     "text": [
      "(1415, 4)\n",
      "array_row min: 12, max: 67\n",
      "array_col min: 7, max: 120\n"
     ]
    },
    {
     "data": {
      "text/html": [
       "<div>\n",
       "<style scoped>\n",
       "    .dataframe tbody tr th:only-of-type {\n",
       "        vertical-align: middle;\n",
       "    }\n",
       "\n",
       "    .dataframe tbody tr th {\n",
       "        vertical-align: top;\n",
       "    }\n",
       "\n",
       "    .dataframe thead th {\n",
       "        text-align: right;\n",
       "    }\n",
       "</style>\n",
       "<table border=\"1\" class=\"dataframe\">\n",
       "  <thead>\n",
       "    <tr style=\"text-align: right;\">\n",
       "      <th></th>\n",
       "      <th>in_tissue</th>\n",
       "      <th>array_row</th>\n",
       "      <th>array_col</th>\n",
       "      <th>Sample</th>\n",
       "    </tr>\n",
       "  </thead>\n",
       "  <tbody>\n",
       "    <tr>\n",
       "      <th>AAACAAGTATCTCCCA-1</th>\n",
       "      <td>1</td>\n",
       "      <td>50</td>\n",
       "      <td>102</td>\n",
       "      <td>Annelie_S5</td>\n",
       "    </tr>\n",
       "    <tr>\n",
       "      <th>AAACGAGACGGTTGAT-1</th>\n",
       "      <td>1</td>\n",
       "      <td>35</td>\n",
       "      <td>79</td>\n",
       "      <td>Annelie_S5</td>\n",
       "    </tr>\n",
       "    <tr>\n",
       "      <th>AAACTCGGTTCGCAAT-1</th>\n",
       "      <td>1</td>\n",
       "      <td>66</td>\n",
       "      <td>70</td>\n",
       "      <td>Annelie_S5</td>\n",
       "    </tr>\n",
       "    <tr>\n",
       "      <th>AAACTGCTGGCTCCAA-1</th>\n",
       "      <td>1</td>\n",
       "      <td>45</td>\n",
       "      <td>67</td>\n",
       "      <td>Annelie_S5</td>\n",
       "    </tr>\n",
       "    <tr>\n",
       "      <th>AAAGGCTCTCGCGCCG-1</th>\n",
       "      <td>1</td>\n",
       "      <td>55</td>\n",
       "      <td>55</td>\n",
       "      <td>Annelie_S5</td>\n",
       "    </tr>\n",
       "    <tr>\n",
       "      <th>...</th>\n",
       "      <td>...</td>\n",
       "      <td>...</td>\n",
       "      <td>...</td>\n",
       "      <td>...</td>\n",
       "    </tr>\n",
       "    <tr>\n",
       "      <th>TTGTGGCCCTGACAGT-1</th>\n",
       "      <td>1</td>\n",
       "      <td>18</td>\n",
       "      <td>60</td>\n",
       "      <td>Annelie_S5</td>\n",
       "    </tr>\n",
       "    <tr>\n",
       "      <th>TTGTGTATGCCACCAA-1</th>\n",
       "      <td>1</td>\n",
       "      <td>56</td>\n",
       "      <td>60</td>\n",
       "      <td>Annelie_S5</td>\n",
       "    </tr>\n",
       "    <tr>\n",
       "      <th>TTGTGTTTCCCGAAAG-1</th>\n",
       "      <td>1</td>\n",
       "      <td>51</td>\n",
       "      <td>59</td>\n",
       "      <td>Annelie_S5</td>\n",
       "    </tr>\n",
       "    <tr>\n",
       "      <th>TTGTTCAGTGTGCTAC-1</th>\n",
       "      <td>1</td>\n",
       "      <td>24</td>\n",
       "      <td>64</td>\n",
       "      <td>Annelie_S5</td>\n",
       "    </tr>\n",
       "    <tr>\n",
       "      <th>TTGTTGTGTGTCAAGA-1</th>\n",
       "      <td>1</td>\n",
       "      <td>31</td>\n",
       "      <td>77</td>\n",
       "      <td>Annelie_S5</td>\n",
       "    </tr>\n",
       "  </tbody>\n",
       "</table>\n",
       "<p>1415 rows × 4 columns</p>\n",
       "</div>"
      ],
      "text/plain": [
       "                    in_tissue  array_row  array_col      Sample\n",
       "AAACAAGTATCTCCCA-1          1         50        102  Annelie_S5\n",
       "AAACGAGACGGTTGAT-1          1         35         79  Annelie_S5\n",
       "AAACTCGGTTCGCAAT-1          1         66         70  Annelie_S5\n",
       "AAACTGCTGGCTCCAA-1          1         45         67  Annelie_S5\n",
       "AAAGGCTCTCGCGCCG-1          1         55         55  Annelie_S5\n",
       "...                       ...        ...        ...         ...\n",
       "TTGTGGCCCTGACAGT-1          1         18         60  Annelie_S5\n",
       "TTGTGTATGCCACCAA-1          1         56         60  Annelie_S5\n",
       "TTGTGTTTCCCGAAAG-1          1         51         59  Annelie_S5\n",
       "TTGTTCAGTGTGCTAC-1          1         24         64  Annelie_S5\n",
       "TTGTTGTGTGTCAAGA-1          1         31         77  Annelie_S5\n",
       "\n",
       "[1415 rows x 4 columns]"
      ]
     },
     "execution_count": 6,
     "metadata": {},
     "output_type": "execute_result"
    }
   ],
   "source": [
    "print(s5.obs.shape)\n",
    "print('array_row min: {}, max: {}'.format(min(s5.obs['array_row']), max(s5.obs['array_row'])))\n",
    "print('array_col min: {}, max: {}'.format(min(s5.obs['array_col']), max(s5.obs['array_col'])))\n",
    "s5.obs"
   ]
  },
  {
   "cell_type": "code",
   "execution_count": 30,
   "metadata": {},
   "outputs": [
    {
     "name": "stdout",
     "output_type": "stream",
     "text": [
      "(64591, 5)\n",
      "genomes: {'mm10', 'GRCh38'}\n",
      "genes with human mitochondria: \n",
      "GRCh38_MT-ND1      MT-ND1\n",
      "GRCh38_MT-ND2      MT-ND2\n",
      "GRCh38_MT-CO1      MT-CO1\n",
      "GRCh38_MT-CO2      MT-CO2\n",
      "GRCh38_MT-ATP8    MT-ATP8\n",
      "GRCh38_MT-ATP6    MT-ATP6\n",
      "GRCh38_MT-CO3      MT-CO3\n",
      "GRCh38_MT-ND3      MT-ND3\n",
      "GRCh38_MT-ND4L    MT-ND4L\n",
      "GRCh38_MT-ND4      MT-ND4\n",
      "GRCh38_MT-ND5      MT-ND5\n",
      "GRCh38_MT-ND6      MT-ND6\n",
      "GRCh38_MT-CYB      MT-CYB\n",
      "Name: Gene, dtype: object\n",
      "num human genome = 33538\n"
     ]
    },
    {
     "data": {
      "text/html": [
       "<div>\n",
       "<style scoped>\n",
       "    .dataframe tbody tr th:only-of-type {\n",
       "        vertical-align: middle;\n",
       "    }\n",
       "\n",
       "    .dataframe tbody tr th {\n",
       "        vertical-align: top;\n",
       "    }\n",
       "\n",
       "    .dataframe thead th {\n",
       "        text-align: right;\n",
       "    }\n",
       "</style>\n",
       "<table border=\"1\" class=\"dataframe\">\n",
       "  <thead>\n",
       "    <tr style=\"text-align: right;\">\n",
       "      <th></th>\n",
       "      <th>gene_ids</th>\n",
       "      <th>feature_types</th>\n",
       "      <th>genome</th>\n",
       "      <th>Gene</th>\n",
       "      <th>Ensembl</th>\n",
       "    </tr>\n",
       "  </thead>\n",
       "  <tbody>\n",
       "    <tr>\n",
       "      <th>GRCh38_MIR1302-2HG</th>\n",
       "      <td>GRCh38_ENSG00000243485</td>\n",
       "      <td>Gene Expression</td>\n",
       "      <td>GRCh38</td>\n",
       "      <td>MIR1302-2HG</td>\n",
       "      <td>ENSG00000243485</td>\n",
       "    </tr>\n",
       "    <tr>\n",
       "      <th>GRCh38_FAM138A</th>\n",
       "      <td>GRCh38_ENSG00000237613</td>\n",
       "      <td>Gene Expression</td>\n",
       "      <td>GRCh38</td>\n",
       "      <td>FAM138A</td>\n",
       "      <td>ENSG00000237613</td>\n",
       "    </tr>\n",
       "    <tr>\n",
       "      <th>GRCh38_OR4F5</th>\n",
       "      <td>GRCh38_ENSG00000186092</td>\n",
       "      <td>Gene Expression</td>\n",
       "      <td>GRCh38</td>\n",
       "      <td>OR4F5</td>\n",
       "      <td>ENSG00000186092</td>\n",
       "    </tr>\n",
       "    <tr>\n",
       "      <th>GRCh38_AL627309.1</th>\n",
       "      <td>GRCh38_ENSG00000238009</td>\n",
       "      <td>Gene Expression</td>\n",
       "      <td>GRCh38</td>\n",
       "      <td>AL627309.1</td>\n",
       "      <td>ENSG00000238009</td>\n",
       "    </tr>\n",
       "    <tr>\n",
       "      <th>GRCh38_AL627309.3</th>\n",
       "      <td>GRCh38_ENSG00000239945</td>\n",
       "      <td>Gene Expression</td>\n",
       "      <td>GRCh38</td>\n",
       "      <td>AL627309.3</td>\n",
       "      <td>ENSG00000239945</td>\n",
       "    </tr>\n",
       "    <tr>\n",
       "      <th>...</th>\n",
       "      <td>...</td>\n",
       "      <td>...</td>\n",
       "      <td>...</td>\n",
       "      <td>...</td>\n",
       "      <td>...</td>\n",
       "    </tr>\n",
       "    <tr>\n",
       "      <th>mm10_AC168977.1</th>\n",
       "      <td>mm10_ENSMUSG00000079808</td>\n",
       "      <td>Gene Expression</td>\n",
       "      <td>mm10</td>\n",
       "      <td>AC168977.1</td>\n",
       "      <td>ENSMUSG00000079808</td>\n",
       "    </tr>\n",
       "    <tr>\n",
       "      <th>mm10_AC149090.1</th>\n",
       "      <td>mm10_ENSMUSG00000095041</td>\n",
       "      <td>Gene Expression</td>\n",
       "      <td>mm10</td>\n",
       "      <td>AC149090.1</td>\n",
       "      <td>ENSMUSG00000095041</td>\n",
       "    </tr>\n",
       "    <tr>\n",
       "      <th>mm10_CAAA01118383.1</th>\n",
       "      <td>mm10_ENSMUSG00000063897</td>\n",
       "      <td>Gene Expression</td>\n",
       "      <td>mm10</td>\n",
       "      <td>CAAA01118383.1</td>\n",
       "      <td>ENSMUSG00000063897</td>\n",
       "    </tr>\n",
       "    <tr>\n",
       "      <th>mm10_Vmn2r122</th>\n",
       "      <td>mm10_ENSMUSG00000096730</td>\n",
       "      <td>Gene Expression</td>\n",
       "      <td>mm10</td>\n",
       "      <td>Vmn2r122</td>\n",
       "      <td>ENSMUSG00000096730</td>\n",
       "    </tr>\n",
       "    <tr>\n",
       "      <th>mm10_CAAA01147332.1</th>\n",
       "      <td>mm10_ENSMUSG00000095742</td>\n",
       "      <td>Gene Expression</td>\n",
       "      <td>mm10</td>\n",
       "      <td>CAAA01147332.1</td>\n",
       "      <td>ENSMUSG00000095742</td>\n",
       "    </tr>\n",
       "  </tbody>\n",
       "</table>\n",
       "<p>64591 rows × 5 columns</p>\n",
       "</div>"
      ],
      "text/plain": [
       "                                    gene_ids    feature_types  genome  \\\n",
       "GRCh38_MIR1302-2HG    GRCh38_ENSG00000243485  Gene Expression  GRCh38   \n",
       "GRCh38_FAM138A        GRCh38_ENSG00000237613  Gene Expression  GRCh38   \n",
       "GRCh38_OR4F5          GRCh38_ENSG00000186092  Gene Expression  GRCh38   \n",
       "GRCh38_AL627309.1     GRCh38_ENSG00000238009  Gene Expression  GRCh38   \n",
       "GRCh38_AL627309.3     GRCh38_ENSG00000239945  Gene Expression  GRCh38   \n",
       "...                                      ...              ...     ...   \n",
       "mm10_AC168977.1      mm10_ENSMUSG00000079808  Gene Expression    mm10   \n",
       "mm10_AC149090.1      mm10_ENSMUSG00000095041  Gene Expression    mm10   \n",
       "mm10_CAAA01118383.1  mm10_ENSMUSG00000063897  Gene Expression    mm10   \n",
       "mm10_Vmn2r122        mm10_ENSMUSG00000096730  Gene Expression    mm10   \n",
       "mm10_CAAA01147332.1  mm10_ENSMUSG00000095742  Gene Expression    mm10   \n",
       "\n",
       "                               Gene             Ensembl  \n",
       "GRCh38_MIR1302-2HG      MIR1302-2HG     ENSG00000243485  \n",
       "GRCh38_FAM138A              FAM138A     ENSG00000237613  \n",
       "GRCh38_OR4F5                  OR4F5     ENSG00000186092  \n",
       "GRCh38_AL627309.1        AL627309.1     ENSG00000238009  \n",
       "GRCh38_AL627309.3        AL627309.3     ENSG00000239945  \n",
       "...                             ...                 ...  \n",
       "mm10_AC168977.1          AC168977.1  ENSMUSG00000079808  \n",
       "mm10_AC149090.1          AC149090.1  ENSMUSG00000095041  \n",
       "mm10_CAAA01118383.1  CAAA01118383.1  ENSMUSG00000063897  \n",
       "mm10_Vmn2r122              Vmn2r122  ENSMUSG00000096730  \n",
       "mm10_CAAA01147332.1  CAAA01147332.1  ENSMUSG00000095742  \n",
       "\n",
       "[64591 rows x 5 columns]"
      ]
     },
     "execution_count": 30,
     "metadata": {},
     "output_type": "execute_result"
    }
   ],
   "source": [
    "print(s5.var.shape)\n",
    "print('genomes: {}'.format(set(s5.var.genome)))\n",
    "genes = s5.var.Gene[s5.var.Gene.str.startswith(\"MT-\")]\n",
    "print('genes with human mitochondria: \\n{}'.format(genes))\n",
    "human_genome_spatial = s5.var[s5.var.genome == 'GRCh38']\n",
    "print('num human genome = {}'.format(len(human_genome_spatial)))\n",
    "s5.var"
   ]
  },
  {
   "cell_type": "code",
   "execution_count": 8,
   "metadata": {},
   "outputs": [
    {
     "name": "stdout",
     "output_type": "stream",
     "text": [
      "(2000, 2000, 3)\n"
     ]
    },
    {
     "data": {
      "text/plain": [
       "<matplotlib.image.AxesImage at 0x7f73074384f0>"
      ]
     },
     "execution_count": 8,
     "metadata": {},
     "output_type": "execute_result"
    },
    {
     "data": {
      "image/png": "[encoded data removed]",
      "text/plain": [
       "<Figure size 432x288 with 1 Axes>"
      ]
     },
     "metadata": {
      "needs_background": "light"
     },
     "output_type": "display_data"
    }
   ],
   "source": [
    "images = s5.uns['images']\n",
    "scalefactors = s5.uns['scalefactors']\n",
    "print(images['hires'].shape)\n",
    "plt.imshow(images['hires'])"
   ]
  },
  {
   "cell_type": "code",
   "execution_count": 17,
   "metadata": {},
   "outputs": [
    {
     "data": {
      "text/plain": [
       "array([0.61312276, 0.45799953, 0.6431678 ], dtype=float32)"
      ]
     },
     "execution_count": 17,
     "metadata": {},
     "output_type": "execute_result"
    }
   ],
   "source": [
    "images['hires'][1000][1000]"
   ]
  },
  {
   "cell_type": "code",
   "execution_count": 9,
   "metadata": {},
   "outputs": [
    {
     "name": "stdout",
     "output_type": "stream",
     "text": [
      "(600, 600, 3)\n"
     ]
    }
   ],
   "source": [
    "print(images['lowres'].shape)\n",
    "# plt.imshow(images['lowres'])"
   ]
  },
  {
   "cell_type": "code",
   "execution_count": 10,
   "metadata": {},
   "outputs": [
    {
     "name": "stdout",
     "output_type": "stream",
     "text": [
      "spot_diameter_fullres: 377.83725199901045\n",
      "tissue_hires_scalef: 0.03792476\n",
      "fiducial_diameter_fullres: 610.3524839984015\n",
      "tissue_lowres_scalef: 0.011377427\n"
     ]
    }
   ],
   "source": [
    "for key, val in scalefactors.items():\n",
    "    print('{}: {}'.format(key, val))"
   ]
  },
  {
   "cell_type": "code",
   "execution_count": 11,
   "metadata": {},
   "outputs": [
    {
     "data": {
      "text/plain": [
       "<AxesSubplot:>"
      ]
     },
     "execution_count": 11,
     "metadata": {},
     "output_type": "execute_result"
    },
    {
     "data": {
      "image/png": "[encoded data removed]",
      "text/plain": [
       "<Figure size 432x288 with 1 Axes>"
      ]
     },
     "metadata": {
      "needs_background": "light"
     },
     "output_type": "display_data"
    }
   ],
   "source": [
    "s5.obsm\n",
    "scprep.plot.scatter2d(s5.obsm['X_spatial'])"
   ]
  },
  {
   "cell_type": "code",
   "execution_count": 18,
   "metadata": {},
   "outputs": [
    {
     "name": "stdout",
     "output_type": "stream",
     "text": [
      "(1415, 2)\n",
      "X_spatial row min: 31046, max: 33397\n",
      "X_spatial col min: 23408, max: 26771\n"
     ]
    }
   ],
   "source": [
    "spatial = s5.obsm['X_spatial']\n",
    "print(spatial.shape)\n",
    "print('X_spatial row min: {}, max: {}'.format(min(spatial[:][0]), max(spatial[:][0])))  # range: 2352\n",
    "print('X_spatial col min: {}, max: {}'.format(min(spatial[:][1]), max(spatial[:][1])))  # range: 3364"
   ]
  },
  {
   "cell_type": "code",
   "execution_count": 4,
   "metadata": {},
   "outputs": [
    {
     "name": "stdout",
     "output_type": "stream",
     "text": [
      "(1415, 64591)\n"
     ]
    },
    {
     "data": {
      "text/plain": [
       "<AxesSubplot:xlabel='Library size', ylabel='Number of cells'>"
      ]
     },
     "execution_count": 4,
     "metadata": {},
     "output_type": "execute_result"
    },
    {
     "data": {
      "image/png": "[encoded data removed]",
      "text/plain": [
       "<Figure size 432x288 with 1 Axes>"
      ]
     },
     "metadata": {
      "needs_background": "light"
     },
     "output_type": "display_data"
    }
   ],
   "source": [
    "spatial_adata = s5.X.toarray()\n",
    "print(spatial_adata.shape)\n",
    "scprep.plot.plot_library_size(spatial_adata, log='False')"
   ]
  },
  {
   "cell_type": "code",
   "execution_count": 14,
   "metadata": {},
   "outputs": [
    {
     "data": {
      "text/plain": [
       "<AxesSubplot:xlabel='Library size', ylabel='Number of cells'>"
      ]
     },
     "execution_count": 14,
     "metadata": {},
     "output_type": "execute_result"
    },
    {
     "data": {
      "image/png": "[encoded data removed]",
      "text/plain": [
       "<Figure size 432x288 with 1 Axes>"
      ]
     },
     "metadata": {
      "needs_background": "light"
     },
     "output_type": "display_data"
    }
   ],
   "source": [
    "spatial_adata = scprep.filter.filter_rare_genes(spatial_adata)\n",
    "scprep.plot.plot_library_size(spatial_adata, log='False')"
   ]
  },
  {
   "cell_type": "code",
   "execution_count": 15,
   "metadata": {},
   "outputs": [
    {
     "data": {
      "text/plain": [
       "<AxesSubplot:xlabel='Library size', ylabel='Number of cells'>"
      ]
     },
     "execution_count": 15,
     "metadata": {},
     "output_type": "execute_result"
    },
    {
     "data": {
      "image/png": "[encoded data removed]",
      "text/plain": [
       "<Figure size 432x288 with 1 Axes>"
      ]
     },
     "metadata": {
      "needs_background": "light"
     },
     "output_type": "display_data"
    }
   ],
   "source": [
    "spatial_adata = scprep.transform.sqrt(spatial_adata)\n",
    "scprep.plot.plot_library_size(spatial_adata, log='False')"
   ]
  },
  {
   "cell_type": "markdown",
   "metadata": {},
   "source": [
    "# Unfiltered RNA Seq Data"
   ]
  },
  {
   "cell_type": "code",
   "execution_count": 25,
   "metadata": {},
   "outputs": [
    {
     "data": {
      "text/plain": [
       "AnnData object with n_obs × n_vars = 178488 × 64591\n",
       "    obs: 'Sample', 'Barcode', 'old_Sample', 'Tissue', 'Replicate', 'cellIDs'\n",
       "    var: 'ID', 'Symbol', 'Type', 'GeneSymbol', 'Organism', 'Ensembl'"
      ]
     },
     "execution_count": 25,
     "metadata": {},
     "output_type": "execute_result"
    }
   ],
   "source": [
    "rna = sc.read('/data/anniegao/spatial_magan/Raw_experiment_all_unfiltered_counts_AnnData.h5ad')\n",
    "rna"
   ]
  },
  {
   "cell_type": "code",
   "execution_count": 5,
   "metadata": {},
   "outputs": [
    {
     "data": {
      "text/html": [
       "<div>\n",
       "<style scoped>\n",
       "    .dataframe tbody tr th:only-of-type {\n",
       "        vertical-align: middle;\n",
       "    }\n",
       "\n",
       "    .dataframe tbody tr th {\n",
       "        vertical-align: top;\n",
       "    }\n",
       "\n",
       "    .dataframe thead th {\n",
       "        text-align: right;\n",
       "    }\n",
       "</style>\n",
       "<table border=\"1\" class=\"dataframe\">\n",
       "  <thead>\n",
       "    <tr style=\"text-align: right;\">\n",
       "      <th></th>\n",
       "      <th>Sample</th>\n",
       "      <th>Barcode</th>\n",
       "      <th>old_Sample</th>\n",
       "      <th>Tissue</th>\n",
       "      <th>Replicate</th>\n",
       "      <th>cellIDs</th>\n",
       "    </tr>\n",
       "  </thead>\n",
       "  <tbody>\n",
       "    <tr>\n",
       "      <th>1_AAACCTGAGAAACCGC-1</th>\n",
       "      <td>Liver_1</td>\n",
       "      <td>AAACCTGAGAAACCGC-1</td>\n",
       "      <td>43973_Liver_Met</td>\n",
       "      <td>Liver</td>\n",
       "      <td>1</td>\n",
       "      <td>1_AAACCTGAGAAACCGC-1</td>\n",
       "    </tr>\n",
       "    <tr>\n",
       "      <th>1_AAACCTGAGAAGGGTA-1</th>\n",
       "      <td>Liver_1</td>\n",
       "      <td>AAACCTGAGAAGGGTA-1</td>\n",
       "      <td>43973_Liver_Met</td>\n",
       "      <td>Liver</td>\n",
       "      <td>1</td>\n",
       "      <td>1_AAACCTGAGAAGGGTA-1</td>\n",
       "    </tr>\n",
       "    <tr>\n",
       "      <th>1_AAACCTGAGACGCTTT-1</th>\n",
       "      <td>Liver_1</td>\n",
       "      <td>AAACCTGAGACGCTTT-1</td>\n",
       "      <td>43973_Liver_Met</td>\n",
       "      <td>Liver</td>\n",
       "      <td>1</td>\n",
       "      <td>1_AAACCTGAGACGCTTT-1</td>\n",
       "    </tr>\n",
       "    <tr>\n",
       "      <th>1_AAACCTGAGCCAGGAT-1</th>\n",
       "      <td>Liver_1</td>\n",
       "      <td>AAACCTGAGCCAGGAT-1</td>\n",
       "      <td>43973_Liver_Met</td>\n",
       "      <td>Liver</td>\n",
       "      <td>1</td>\n",
       "      <td>1_AAACCTGAGCCAGGAT-1</td>\n",
       "    </tr>\n",
       "    <tr>\n",
       "      <th>1_AAACCTGAGGCATGGT-1</th>\n",
       "      <td>Liver_1</td>\n",
       "      <td>AAACCTGAGGCATGGT-1</td>\n",
       "      <td>43973_Liver_Met</td>\n",
       "      <td>Liver</td>\n",
       "      <td>1</td>\n",
       "      <td>1_AAACCTGAGGCATGGT-1</td>\n",
       "    </tr>\n",
       "    <tr>\n",
       "      <th>...</th>\n",
       "      <td>...</td>\n",
       "      <td>...</td>\n",
       "      <td>...</td>\n",
       "      <td>...</td>\n",
       "      <td>...</td>\n",
       "      <td>...</td>\n",
       "    </tr>\n",
       "    <tr>\n",
       "      <th>19_TTTGTCATCACGCATA-1</th>\n",
       "      <td>Primary_4</td>\n",
       "      <td>TTTGTCATCACGCATA-1</td>\n",
       "      <td>M43979_PT</td>\n",
       "      <td>Primary</td>\n",
       "      <td>4</td>\n",
       "      <td>19_TTTGTCATCACGCATA-1</td>\n",
       "    </tr>\n",
       "    <tr>\n",
       "      <th>19_TTTGTCATCAGAAATG-1</th>\n",
       "      <td>Primary_4</td>\n",
       "      <td>TTTGTCATCAGAAATG-1</td>\n",
       "      <td>M43979_PT</td>\n",
       "      <td>Primary</td>\n",
       "      <td>4</td>\n",
       "      <td>19_TTTGTCATCAGAAATG-1</td>\n",
       "    </tr>\n",
       "    <tr>\n",
       "      <th>19_TTTGTCATCCCATTAT-1</th>\n",
       "      <td>Primary_4</td>\n",
       "      <td>TTTGTCATCCCATTAT-1</td>\n",
       "      <td>M43979_PT</td>\n",
       "      <td>Primary</td>\n",
       "      <td>4</td>\n",
       "      <td>19_TTTGTCATCCCATTAT-1</td>\n",
       "    </tr>\n",
       "    <tr>\n",
       "      <th>19_TTTGTCATCGGGAGTA-1</th>\n",
       "      <td>Primary_4</td>\n",
       "      <td>TTTGTCATCGGGAGTA-1</td>\n",
       "      <td>M43979_PT</td>\n",
       "      <td>Primary</td>\n",
       "      <td>4</td>\n",
       "      <td>19_TTTGTCATCGGGAGTA-1</td>\n",
       "    </tr>\n",
       "    <tr>\n",
       "      <th>19_TTTGTCATCTGGTTCC-1</th>\n",
       "      <td>Primary_4</td>\n",
       "      <td>TTTGTCATCTGGTTCC-1</td>\n",
       "      <td>M43979_PT</td>\n",
       "      <td>Primary</td>\n",
       "      <td>4</td>\n",
       "      <td>19_TTTGTCATCTGGTTCC-1</td>\n",
       "    </tr>\n",
       "  </tbody>\n",
       "</table>\n",
       "<p>178488 rows × 6 columns</p>\n",
       "</div>"
      ],
      "text/plain": [
       "                          Sample             Barcode       old_Sample  \\\n",
       "1_AAACCTGAGAAACCGC-1     Liver_1  AAACCTGAGAAACCGC-1  43973_Liver_Met   \n",
       "1_AAACCTGAGAAGGGTA-1     Liver_1  AAACCTGAGAAGGGTA-1  43973_Liver_Met   \n",
       "1_AAACCTGAGACGCTTT-1     Liver_1  AAACCTGAGACGCTTT-1  43973_Liver_Met   \n",
       "1_AAACCTGAGCCAGGAT-1     Liver_1  AAACCTGAGCCAGGAT-1  43973_Liver_Met   \n",
       "1_AAACCTGAGGCATGGT-1     Liver_1  AAACCTGAGGCATGGT-1  43973_Liver_Met   \n",
       "...                          ...                 ...              ...   \n",
       "19_TTTGTCATCACGCATA-1  Primary_4  TTTGTCATCACGCATA-1        M43979_PT   \n",
       "19_TTTGTCATCAGAAATG-1  Primary_4  TTTGTCATCAGAAATG-1        M43979_PT   \n",
       "19_TTTGTCATCCCATTAT-1  Primary_4  TTTGTCATCCCATTAT-1        M43979_PT   \n",
       "19_TTTGTCATCGGGAGTA-1  Primary_4  TTTGTCATCGGGAGTA-1        M43979_PT   \n",
       "19_TTTGTCATCTGGTTCC-1  Primary_4  TTTGTCATCTGGTTCC-1        M43979_PT   \n",
       "\n",
       "                        Tissue Replicate                cellIDs  \n",
       "1_AAACCTGAGAAACCGC-1     Liver         1   1_AAACCTGAGAAACCGC-1  \n",
       "1_AAACCTGAGAAGGGTA-1     Liver         1   1_AAACCTGAGAAGGGTA-1  \n",
       "1_AAACCTGAGACGCTTT-1     Liver         1   1_AAACCTGAGACGCTTT-1  \n",
       "1_AAACCTGAGCCAGGAT-1     Liver         1   1_AAACCTGAGCCAGGAT-1  \n",
       "1_AAACCTGAGGCATGGT-1     Liver         1   1_AAACCTGAGGCATGGT-1  \n",
       "...                        ...       ...                    ...  \n",
       "19_TTTGTCATCACGCATA-1  Primary         4  19_TTTGTCATCACGCATA-1  \n",
       "19_TTTGTCATCAGAAATG-1  Primary         4  19_TTTGTCATCAGAAATG-1  \n",
       "19_TTTGTCATCCCATTAT-1  Primary         4  19_TTTGTCATCCCATTAT-1  \n",
       "19_TTTGTCATCGGGAGTA-1  Primary         4  19_TTTGTCATCGGGAGTA-1  \n",
       "19_TTTGTCATCTGGTTCC-1  Primary         4  19_TTTGTCATCTGGTTCC-1  \n",
       "\n",
       "[178488 rows x 6 columns]"
      ]
     },
     "execution_count": 5,
     "metadata": {},
     "output_type": "execute_result"
    }
   ],
   "source": [
    "rna.obs"
   ]
  },
  {
   "cell_type": "code",
   "execution_count": 31,
   "metadata": {},
   "outputs": [
    {
     "name": "stdout",
     "output_type": "stream",
     "text": [
      "genomes: {'mm10', 'GRCh38'}\n",
      "genes with human mitochondria: \n",
      "MT-ND1      MT-ND1\n",
      "MT-ND2      MT-ND2\n",
      "MT-CO1      MT-CO1\n",
      "MT-CO2      MT-CO2\n",
      "MT-ATP8    MT-ATP8\n",
      "MT-ATP6    MT-ATP6\n",
      "MT-CO3      MT-CO3\n",
      "MT-ND3      MT-ND3\n",
      "MT-ND4L    MT-ND4L\n",
      "MT-ND4      MT-ND4\n",
      "MT-ND5      MT-ND5\n",
      "MT-ND6      MT-ND6\n",
      "MT-CYB      MT-CYB\n",
      "Name: GeneSymbol, dtype: category\n",
      "Categories (64515, object): ['0610005C13Rik', '0610006L08Rik', '0610009B22Rik', '0610009O20Rik', ..., 'mt-Nd4', 'mt-Nd4l', 'mt-Nd5', 'mt-Nd6']\n",
      "num human genome = 33538\n"
     ]
    },
    {
     "data": {
      "text/html": [
       "<div>\n",
       "<style scoped>\n",
       "    .dataframe tbody tr th:only-of-type {\n",
       "        vertical-align: middle;\n",
       "    }\n",
       "\n",
       "    .dataframe tbody tr th {\n",
       "        vertical-align: top;\n",
       "    }\n",
       "\n",
       "    .dataframe thead th {\n",
       "        text-align: right;\n",
       "    }\n",
       "</style>\n",
       "<table border=\"1\" class=\"dataframe\">\n",
       "  <thead>\n",
       "    <tr style=\"text-align: right;\">\n",
       "      <th></th>\n",
       "      <th>ID</th>\n",
       "      <th>Symbol</th>\n",
       "      <th>Type</th>\n",
       "      <th>GeneSymbol</th>\n",
       "      <th>Organism</th>\n",
       "      <th>Ensembl</th>\n",
       "    </tr>\n",
       "  </thead>\n",
       "  <tbody>\n",
       "    <tr>\n",
       "      <th>MIR1302-2HG</th>\n",
       "      <td>GRCh38_ENSG00000243485</td>\n",
       "      <td>GRCh38_MIR1302-2HG</td>\n",
       "      <td>Gene Expression</td>\n",
       "      <td>MIR1302-2HG</td>\n",
       "      <td>GRCh38</td>\n",
       "      <td>ENSG00000243485</td>\n",
       "    </tr>\n",
       "    <tr>\n",
       "      <th>FAM138A</th>\n",
       "      <td>GRCh38_ENSG00000237613</td>\n",
       "      <td>GRCh38_FAM138A</td>\n",
       "      <td>Gene Expression</td>\n",
       "      <td>FAM138A</td>\n",
       "      <td>GRCh38</td>\n",
       "      <td>ENSG00000237613</td>\n",
       "    </tr>\n",
       "    <tr>\n",
       "      <th>OR4F5</th>\n",
       "      <td>GRCh38_ENSG00000186092</td>\n",
       "      <td>GRCh38_OR4F5</td>\n",
       "      <td>Gene Expression</td>\n",
       "      <td>OR4F5</td>\n",
       "      <td>GRCh38</td>\n",
       "      <td>ENSG00000186092</td>\n",
       "    </tr>\n",
       "    <tr>\n",
       "      <th>AL627309.1</th>\n",
       "      <td>GRCh38_ENSG00000238009</td>\n",
       "      <td>GRCh38_AL627309.1</td>\n",
       "      <td>Gene Expression</td>\n",
       "      <td>AL627309.1</td>\n",
       "      <td>GRCh38</td>\n",
       "      <td>ENSG00000238009</td>\n",
       "    </tr>\n",
       "    <tr>\n",
       "      <th>AL627309.3</th>\n",
       "      <td>GRCh38_ENSG00000239945</td>\n",
       "      <td>GRCh38_AL627309.3</td>\n",
       "      <td>Gene Expression</td>\n",
       "      <td>AL627309.3</td>\n",
       "      <td>GRCh38</td>\n",
       "      <td>ENSG00000239945</td>\n",
       "    </tr>\n",
       "    <tr>\n",
       "      <th>...</th>\n",
       "      <td>...</td>\n",
       "      <td>...</td>\n",
       "      <td>...</td>\n",
       "      <td>...</td>\n",
       "      <td>...</td>\n",
       "      <td>...</td>\n",
       "    </tr>\n",
       "    <tr>\n",
       "      <th>AC168977.1</th>\n",
       "      <td>mm10___ENSMUSG00000079808</td>\n",
       "      <td>mm10___AC168977.1</td>\n",
       "      <td>Gene Expression</td>\n",
       "      <td>AC168977.1</td>\n",
       "      <td>mm10</td>\n",
       "      <td>ENSMUSG00000079808</td>\n",
       "    </tr>\n",
       "    <tr>\n",
       "      <th>AC149090.1</th>\n",
       "      <td>mm10___ENSMUSG00000095041</td>\n",
       "      <td>mm10___AC149090.1</td>\n",
       "      <td>Gene Expression</td>\n",
       "      <td>AC149090.1</td>\n",
       "      <td>mm10</td>\n",
       "      <td>ENSMUSG00000095041</td>\n",
       "    </tr>\n",
       "    <tr>\n",
       "      <th>CAAA01118383.1</th>\n",
       "      <td>mm10___ENSMUSG00000063897</td>\n",
       "      <td>mm10___CAAA01118383.1</td>\n",
       "      <td>Gene Expression</td>\n",
       "      <td>CAAA01118383.1</td>\n",
       "      <td>mm10</td>\n",
       "      <td>ENSMUSG00000063897</td>\n",
       "    </tr>\n",
       "    <tr>\n",
       "      <th>Vmn2r122</th>\n",
       "      <td>mm10___ENSMUSG00000096730</td>\n",
       "      <td>mm10___Vmn2r122</td>\n",
       "      <td>Gene Expression</td>\n",
       "      <td>Vmn2r122</td>\n",
       "      <td>mm10</td>\n",
       "      <td>ENSMUSG00000096730</td>\n",
       "    </tr>\n",
       "    <tr>\n",
       "      <th>CAAA01147332.1</th>\n",
       "      <td>mm10___ENSMUSG00000095742</td>\n",
       "      <td>mm10___CAAA01147332.1</td>\n",
       "      <td>Gene Expression</td>\n",
       "      <td>CAAA01147332.1</td>\n",
       "      <td>mm10</td>\n",
       "      <td>ENSMUSG00000095742</td>\n",
       "    </tr>\n",
       "  </tbody>\n",
       "</table>\n",
       "<p>64591 rows × 6 columns</p>\n",
       "</div>"
      ],
      "text/plain": [
       "                                       ID                 Symbol  \\\n",
       "MIR1302-2HG        GRCh38_ENSG00000243485     GRCh38_MIR1302-2HG   \n",
       "FAM138A            GRCh38_ENSG00000237613         GRCh38_FAM138A   \n",
       "OR4F5              GRCh38_ENSG00000186092           GRCh38_OR4F5   \n",
       "AL627309.1         GRCh38_ENSG00000238009      GRCh38_AL627309.1   \n",
       "AL627309.3         GRCh38_ENSG00000239945      GRCh38_AL627309.3   \n",
       "...                                   ...                    ...   \n",
       "AC168977.1      mm10___ENSMUSG00000079808      mm10___AC168977.1   \n",
       "AC149090.1      mm10___ENSMUSG00000095041      mm10___AC149090.1   \n",
       "CAAA01118383.1  mm10___ENSMUSG00000063897  mm10___CAAA01118383.1   \n",
       "Vmn2r122        mm10___ENSMUSG00000096730        mm10___Vmn2r122   \n",
       "CAAA01147332.1  mm10___ENSMUSG00000095742  mm10___CAAA01147332.1   \n",
       "\n",
       "                           Type      GeneSymbol Organism             Ensembl  \n",
       "MIR1302-2HG     Gene Expression     MIR1302-2HG   GRCh38     ENSG00000243485  \n",
       "FAM138A         Gene Expression         FAM138A   GRCh38     ENSG00000237613  \n",
       "OR4F5           Gene Expression           OR4F5   GRCh38     ENSG00000186092  \n",
       "AL627309.1      Gene Expression      AL627309.1   GRCh38     ENSG00000238009  \n",
       "AL627309.3      Gene Expression      AL627309.3   GRCh38     ENSG00000239945  \n",
       "...                         ...             ...      ...                 ...  \n",
       "AC168977.1      Gene Expression      AC168977.1     mm10  ENSMUSG00000079808  \n",
       "AC149090.1      Gene Expression      AC149090.1     mm10  ENSMUSG00000095041  \n",
       "CAAA01118383.1  Gene Expression  CAAA01118383.1     mm10  ENSMUSG00000063897  \n",
       "Vmn2r122        Gene Expression        Vmn2r122     mm10  ENSMUSG00000096730  \n",
       "CAAA01147332.1  Gene Expression  CAAA01147332.1     mm10  ENSMUSG00000095742  \n",
       "\n",
       "[64591 rows x 6 columns]"
      ]
     },
     "execution_count": 31,
     "metadata": {},
     "output_type": "execute_result"
    }
   ],
   "source": [
    "print('genomes: {}'.format(set(rna.var.Organism)))\n",
    "genes = rna.var.GeneSymbol[rna.var.GeneSymbol.str.startswith(\"MT-\")]\n",
    "print('genes with human mitochondria: \\n{}'.format(genes))\n",
    "human_genome_rna = rna.var[rna.var.Organism == 'GRCh38']\n",
    "print('num human genome = {}'.format(len(human_genome_rna)))\n",
    "rna.var"
   ]
  },
  {
   "cell_type": "code",
   "execution_count": 9,
   "metadata": {},
   "outputs": [
    {
     "name": "stdout",
     "output_type": "stream",
     "text": [
      "(178488, 64591)\n"
     ]
    },
    {
     "data": {
      "text/plain": [
       "array([[0., 0., 0., ..., 0., 0., 0.],\n",
       "       [0., 0., 0., ..., 0., 0., 0.],\n",
       "       [0., 0., 0., ..., 0., 0., 0.],\n",
       "       ...,\n",
       "       [0., 0., 0., ..., 0., 0., 0.],\n",
       "       [0., 0., 0., ..., 0., 0., 0.],\n",
       "       [0., 0., 0., ..., 0., 0., 0.]], dtype=float32)"
      ]
     },
     "execution_count": 9,
     "metadata": {},
     "output_type": "execute_result"
    }
   ],
   "source": [
    "rna_adata = rna.X.toarray()\n",
    "print(rna_adata.shape)\n",
    "rna_adata"
   ]
  },
  {
   "cell_type": "code",
   "execution_count": 10,
   "metadata": {},
   "outputs": [
    {
     "data": {
      "text/plain": [
       "<AxesSubplot:xlabel='Library size', ylabel='Number of cells'>"
      ]
     },
     "execution_count": 10,
     "metadata": {},
     "output_type": "execute_result"
    },
    {
     "data": {
      "image/png": "[encoded data removed]",
      "text/plain": [
       "<Figure size 432x288 with 1 Axes>"
      ]
     },
     "metadata": {
      "needs_background": "light"
     },
     "output_type": "display_data"
    }
   ],
   "source": [
    "scprep.plot.plot_library_size(rna_adata, log='False')"
   ]
  },
  {
   "cell_type": "code",
   "execution_count": 11,
   "metadata": {},
   "outputs": [
    {
     "data": {
      "text/plain": [
       "<AxesSubplot:xlabel='Library size', ylabel='Number of cells'>"
      ]
     },
     "execution_count": 11,
     "metadata": {},
     "output_type": "execute_result"
    },
    {
     "data": {
      "image/png": "[encoded data removed]",
      "text/plain": [
       "<Figure size 432x288 with 1 Axes>"
      ]
     },
     "metadata": {
      "needs_background": "light"
     },
     "output_type": "display_data"
    }
   ],
   "source": [
    "rna_adata = scprep.filter.filter_rare_genes(rna_adata)\n",
    "scprep.plot.plot_library_size(rna_adata, log='False')"
   ]
  },
  {
   "cell_type": "code",
   "execution_count": 12,
   "metadata": {},
   "outputs": [
    {
     "data": {
      "text/plain": [
       "<AxesSubplot:xlabel='Library size', ylabel='Number of cells'>"
      ]
     },
     "execution_count": 12,
     "metadata": {},
     "output_type": "execute_result"
    },
    {
     "data": {
      "image/png": "[encoded data removed]",
      "text/plain": [
       "<Figure size 432x288 with 1 Axes>"
      ]
     },
     "metadata": {
      "needs_background": "light"
     },
     "output_type": "display_data"
    }
   ],
   "source": [
    "rna_adata = scprep.transform.sqrt(rna_adata)\n",
    "scprep.plot.plot_library_size(rna_adata, log='False')"
   ]
  },
  {
   "cell_type": "markdown",
   "metadata": {},
   "source": [
    "# Prefiltered AnnData"
   ]
  },
  {
   "cell_type": "code",
   "execution_count": 3,
   "metadata": {},
   "outputs": [
    {
     "data": {
      "text/plain": [
       "AnnData object with n_obs × n_vars = 140813 × 5551\n",
       "    obs: 'Sample', 'Barcode', 'old_Sample', 'Tissue', 'Replicate', 'cellIDs', 'Human_percent', 'Human_cells', 'Lib_size', 'Genes_detected', 'Mito_percent', 'Practice_subset', 'Mito_percent_discard', 'Genes_detected_discard', 'Libsize_discard', 'discard', 'Spectral_3_cluster', 'Spectral_4_cluster', 'Spectral_5_cluster', 'Spectral_6_cluster', 'Spectral_7_cluster', 'Spectral_8_cluster', 'Spectral_9_cluster', 'Leiden_start_cluster_0.2_opt', 'Leiden_start_cluster_0.3_opt', 'Leiden_start_cluster_0.4_opt', 'Leiden_start_cluster_0.5_opt', 'Leiden_start_cluster_0.6_opt', 'Leiden_start_cluster_0.7_opt', 'Leiden_start_cluster_0.8_opt', 'Leiden_start_cluster_0.9_opt', 'Leiden_start_cluster_1.0_opt'\n",
       "    var: 'ID', 'Symbol', 'Type', 'GeneSymbol', 'Organism', 'Ensembl', 'Liver_active', 'LN_active', 'Lung_active', 'Primary_active', 'Any_Active', 'highly_variable_whole', 'highly_variable_rep_1', 'highly_variable_rep_2', 'highly_variable_rep_3', 'highly_variable_rep_4', 'HVG_num', 'highly_variable'\n",
       "    obsm: 'X_phate_MNN', 'X_phate_nobatch'"
      ]
     },
     "execution_count": 3,
     "metadata": {},
     "output_type": "execute_result"
    }
   ],
   "source": [
    "adata = sc.read('/data/fenggao/spatial_magan/Prefiltered_experiment_all_normalised_AnnData_PHATE_clusterings.h5ad')\n",
    "adata"
   ]
  },
  {
   "cell_type": "code",
   "execution_count": 4,
   "metadata": {},
   "outputs": [
    {
     "data": {
      "text/html": [
       "<div>\n",
       "<style scoped>\n",
       "    .dataframe tbody tr th:only-of-type {\n",
       "        vertical-align: middle;\n",
       "    }\n",
       "\n",
       "    .dataframe tbody tr th {\n",
       "        vertical-align: top;\n",
       "    }\n",
       "\n",
       "    .dataframe thead th {\n",
       "        text-align: right;\n",
       "    }\n",
       "</style>\n",
       "<table border=\"1\" class=\"dataframe\">\n",
       "  <thead>\n",
       "    <tr style=\"text-align: right;\">\n",
       "      <th></th>\n",
       "      <th>Sample</th>\n",
       "      <th>Barcode</th>\n",
       "      <th>old_Sample</th>\n",
       "      <th>Tissue</th>\n",
       "      <th>Replicate</th>\n",
       "      <th>cellIDs</th>\n",
       "      <th>Human_percent</th>\n",
       "      <th>Human_cells</th>\n",
       "      <th>Lib_size</th>\n",
       "      <th>Genes_detected</th>\n",
       "      <th>...</th>\n",
       "      <th>Spectral_9_cluster</th>\n",
       "      <th>Leiden_start_cluster_0.2_opt</th>\n",
       "      <th>Leiden_start_cluster_0.3_opt</th>\n",
       "      <th>Leiden_start_cluster_0.4_opt</th>\n",
       "      <th>Leiden_start_cluster_0.5_opt</th>\n",
       "      <th>Leiden_start_cluster_0.6_opt</th>\n",
       "      <th>Leiden_start_cluster_0.7_opt</th>\n",
       "      <th>Leiden_start_cluster_0.8_opt</th>\n",
       "      <th>Leiden_start_cluster_0.9_opt</th>\n",
       "      <th>Leiden_start_cluster_1.0_opt</th>\n",
       "    </tr>\n",
       "  </thead>\n",
       "  <tbody>\n",
       "    <tr>\n",
       "      <th>1_AAACCTGAGAAACCGC-1</th>\n",
       "      <td>Liver_1</td>\n",
       "      <td>AAACCTGAGAAACCGC-1</td>\n",
       "      <td>43973_Liver_Met</td>\n",
       "      <td>Liver</td>\n",
       "      <td>1</td>\n",
       "      <td>1_AAACCTGAGAAACCGC-1</td>\n",
       "      <td>99.876868</td>\n",
       "      <td>True</td>\n",
       "      <td>30012</td>\n",
       "      <td>5353</td>\n",
       "      <td>...</td>\n",
       "      <td>8</td>\n",
       "      <td>3</td>\n",
       "      <td>4</td>\n",
       "      <td>5</td>\n",
       "      <td>7</td>\n",
       "      <td>8</td>\n",
       "      <td>9</td>\n",
       "      <td>9</td>\n",
       "      <td>10</td>\n",
       "      <td>10</td>\n",
       "    </tr>\n",
       "    <tr>\n",
       "      <th>1_AAACCTGAGAAGGGTA-1</th>\n",
       "      <td>Liver_1</td>\n",
       "      <td>AAACCTGAGAAGGGTA-1</td>\n",
       "      <td>43973_Liver_Met</td>\n",
       "      <td>Liver</td>\n",
       "      <td>1</td>\n",
       "      <td>1_AAACCTGAGAAGGGTA-1</td>\n",
       "      <td>99.889164</td>\n",
       "      <td>True</td>\n",
       "      <td>11716</td>\n",
       "      <td>3163</td>\n",
       "      <td>...</td>\n",
       "      <td>5</td>\n",
       "      <td>1</td>\n",
       "      <td>2</td>\n",
       "      <td>3</td>\n",
       "      <td>3</td>\n",
       "      <td>4</td>\n",
       "      <td>5</td>\n",
       "      <td>4</td>\n",
       "      <td>4</td>\n",
       "      <td>4</td>\n",
       "    </tr>\n",
       "    <tr>\n",
       "      <th>1_AAACCTGAGACGCTTT-1</th>\n",
       "      <td>Liver_1</td>\n",
       "      <td>AAACCTGAGACGCTTT-1</td>\n",
       "      <td>43973_Liver_Met</td>\n",
       "      <td>Liver</td>\n",
       "      <td>1</td>\n",
       "      <td>1_AAACCTGAGACGCTTT-1</td>\n",
       "      <td>99.849936</td>\n",
       "      <td>True</td>\n",
       "      <td>13973</td>\n",
       "      <td>3791</td>\n",
       "      <td>...</td>\n",
       "      <td>7</td>\n",
       "      <td>3</td>\n",
       "      <td>4</td>\n",
       "      <td>5</td>\n",
       "      <td>7</td>\n",
       "      <td>8</td>\n",
       "      <td>9</td>\n",
       "      <td>3</td>\n",
       "      <td>3</td>\n",
       "      <td>10</td>\n",
       "    </tr>\n",
       "    <tr>\n",
       "      <th>1_AAACCTGAGCCAGGAT-1</th>\n",
       "      <td>Liver_1</td>\n",
       "      <td>AAACCTGAGCCAGGAT-1</td>\n",
       "      <td>43973_Liver_Met</td>\n",
       "      <td>Liver</td>\n",
       "      <td>1</td>\n",
       "      <td>1_AAACCTGAGCCAGGAT-1</td>\n",
       "      <td>99.903257</td>\n",
       "      <td>True</td>\n",
       "      <td>6196</td>\n",
       "      <td>2363</td>\n",
       "      <td>...</td>\n",
       "      <td>5</td>\n",
       "      <td>1</td>\n",
       "      <td>2</td>\n",
       "      <td>3</td>\n",
       "      <td>4</td>\n",
       "      <td>5</td>\n",
       "      <td>7</td>\n",
       "      <td>5</td>\n",
       "      <td>7</td>\n",
       "      <td>7</td>\n",
       "    </tr>\n",
       "    <tr>\n",
       "      <th>1_AAACCTGAGGCATGGT-1</th>\n",
       "      <td>Liver_1</td>\n",
       "      <td>AAACCTGAGGCATGGT-1</td>\n",
       "      <td>43973_Liver_Met</td>\n",
       "      <td>Liver</td>\n",
       "      <td>1</td>\n",
       "      <td>1_AAACCTGAGGCATGGT-1</td>\n",
       "      <td>99.653922</td>\n",
       "      <td>True</td>\n",
       "      <td>6047</td>\n",
       "      <td>2183</td>\n",
       "      <td>...</td>\n",
       "      <td>3</td>\n",
       "      <td>1</td>\n",
       "      <td>0</td>\n",
       "      <td>1</td>\n",
       "      <td>0</td>\n",
       "      <td>2</td>\n",
       "      <td>2</td>\n",
       "      <td>2</td>\n",
       "      <td>2</td>\n",
       "      <td>2</td>\n",
       "    </tr>\n",
       "    <tr>\n",
       "      <th>...</th>\n",
       "      <td>...</td>\n",
       "      <td>...</td>\n",
       "      <td>...</td>\n",
       "      <td>...</td>\n",
       "      <td>...</td>\n",
       "      <td>...</td>\n",
       "      <td>...</td>\n",
       "      <td>...</td>\n",
       "      <td>...</td>\n",
       "      <td>...</td>\n",
       "      <td>...</td>\n",
       "      <td>...</td>\n",
       "      <td>...</td>\n",
       "      <td>...</td>\n",
       "      <td>...</td>\n",
       "      <td>...</td>\n",
       "      <td>...</td>\n",
       "      <td>...</td>\n",
       "      <td>...</td>\n",
       "      <td>...</td>\n",
       "      <td>...</td>\n",
       "    </tr>\n",
       "    <tr>\n",
       "      <th>19_TTTGTCAGTTCAGCGC-1</th>\n",
       "      <td>Primary_4</td>\n",
       "      <td>TTTGTCAGTTCAGCGC-1</td>\n",
       "      <td>M43979_PT</td>\n",
       "      <td>Primary</td>\n",
       "      <td>4</td>\n",
       "      <td>19_TTTGTCAGTTCAGCGC-1</td>\n",
       "      <td>99.921701</td>\n",
       "      <td>True</td>\n",
       "      <td>16590</td>\n",
       "      <td>4255</td>\n",
       "      <td>...</td>\n",
       "      <td>5</td>\n",
       "      <td>1</td>\n",
       "      <td>2</td>\n",
       "      <td>3</td>\n",
       "      <td>4</td>\n",
       "      <td>5</td>\n",
       "      <td>7</td>\n",
       "      <td>5</td>\n",
       "      <td>7</td>\n",
       "      <td>7</td>\n",
       "    </tr>\n",
       "    <tr>\n",
       "      <th>19_TTTGTCATCACGCATA-1</th>\n",
       "      <td>Primary_4</td>\n",
       "      <td>TTTGTCATCACGCATA-1</td>\n",
       "      <td>M43979_PT</td>\n",
       "      <td>Primary</td>\n",
       "      <td>4</td>\n",
       "      <td>19_TTTGTCATCACGCATA-1</td>\n",
       "      <td>99.380805</td>\n",
       "      <td>True</td>\n",
       "      <td>963</td>\n",
       "      <td>645</td>\n",
       "      <td>...</td>\n",
       "      <td>1</td>\n",
       "      <td>0</td>\n",
       "      <td>0</td>\n",
       "      <td>0</td>\n",
       "      <td>1</td>\n",
       "      <td>1</td>\n",
       "      <td>1</td>\n",
       "      <td>1</td>\n",
       "      <td>1</td>\n",
       "      <td>1</td>\n",
       "    </tr>\n",
       "    <tr>\n",
       "      <th>19_TTTGTCATCAGAAATG-1</th>\n",
       "      <td>Primary_4</td>\n",
       "      <td>TTTGTCATCAGAAATG-1</td>\n",
       "      <td>M43979_PT</td>\n",
       "      <td>Primary</td>\n",
       "      <td>4</td>\n",
       "      <td>19_TTTGTCATCAGAAATG-1</td>\n",
       "      <td>99.957188</td>\n",
       "      <td>True</td>\n",
       "      <td>11674</td>\n",
       "      <td>3240</td>\n",
       "      <td>...</td>\n",
       "      <td>7</td>\n",
       "      <td>3</td>\n",
       "      <td>4</td>\n",
       "      <td>5</td>\n",
       "      <td>2</td>\n",
       "      <td>3</td>\n",
       "      <td>3</td>\n",
       "      <td>3</td>\n",
       "      <td>3</td>\n",
       "      <td>3</td>\n",
       "    </tr>\n",
       "    <tr>\n",
       "      <th>19_TTTGTCATCCCATTAT-1</th>\n",
       "      <td>Primary_4</td>\n",
       "      <td>TTTGTCATCCCATTAT-1</td>\n",
       "      <td>M43979_PT</td>\n",
       "      <td>Primary</td>\n",
       "      <td>4</td>\n",
       "      <td>19_TTTGTCATCCCATTAT-1</td>\n",
       "      <td>99.929867</td>\n",
       "      <td>True</td>\n",
       "      <td>9974</td>\n",
       "      <td>3032</td>\n",
       "      <td>...</td>\n",
       "      <td>4</td>\n",
       "      <td>3</td>\n",
       "      <td>4</td>\n",
       "      <td>5</td>\n",
       "      <td>2</td>\n",
       "      <td>3</td>\n",
       "      <td>3</td>\n",
       "      <td>3</td>\n",
       "      <td>3</td>\n",
       "      <td>3</td>\n",
       "    </tr>\n",
       "    <tr>\n",
       "      <th>19_TTTGTCATCTGGTTCC-1</th>\n",
       "      <td>Primary_4</td>\n",
       "      <td>TTTGTCATCTGGTTCC-1</td>\n",
       "      <td>M43979_PT</td>\n",
       "      <td>Primary</td>\n",
       "      <td>4</td>\n",
       "      <td>19_TTTGTCATCTGGTTCC-1</td>\n",
       "      <td>99.796831</td>\n",
       "      <td>True</td>\n",
       "      <td>2456</td>\n",
       "      <td>1303</td>\n",
       "      <td>...</td>\n",
       "      <td>1</td>\n",
       "      <td>0</td>\n",
       "      <td>0</td>\n",
       "      <td>0</td>\n",
       "      <td>1</td>\n",
       "      <td>1</td>\n",
       "      <td>1</td>\n",
       "      <td>1</td>\n",
       "      <td>1</td>\n",
       "      <td>1</td>\n",
       "    </tr>\n",
       "  </tbody>\n",
       "</table>\n",
       "<p>140813 rows × 32 columns</p>\n",
       "</div>"
      ],
      "text/plain": [
       "                          Sample             Barcode       old_Sample  \\\n",
       "1_AAACCTGAGAAACCGC-1     Liver_1  AAACCTGAGAAACCGC-1  43973_Liver_Met   \n",
       "1_AAACCTGAGAAGGGTA-1     Liver_1  AAACCTGAGAAGGGTA-1  43973_Liver_Met   \n",
       "1_AAACCTGAGACGCTTT-1     Liver_1  AAACCTGAGACGCTTT-1  43973_Liver_Met   \n",
       "1_AAACCTGAGCCAGGAT-1     Liver_1  AAACCTGAGCCAGGAT-1  43973_Liver_Met   \n",
       "1_AAACCTGAGGCATGGT-1     Liver_1  AAACCTGAGGCATGGT-1  43973_Liver_Met   \n",
       "...                          ...                 ...              ...   \n",
       "19_TTTGTCAGTTCAGCGC-1  Primary_4  TTTGTCAGTTCAGCGC-1        M43979_PT   \n",
       "19_TTTGTCATCACGCATA-1  Primary_4  TTTGTCATCACGCATA-1        M43979_PT   \n",
       "19_TTTGTCATCAGAAATG-1  Primary_4  TTTGTCATCAGAAATG-1        M43979_PT   \n",
       "19_TTTGTCATCCCATTAT-1  Primary_4  TTTGTCATCCCATTAT-1        M43979_PT   \n",
       "19_TTTGTCATCTGGTTCC-1  Primary_4  TTTGTCATCTGGTTCC-1        M43979_PT   \n",
       "\n",
       "                        Tissue Replicate                cellIDs  \\\n",
       "1_AAACCTGAGAAACCGC-1     Liver         1   1_AAACCTGAGAAACCGC-1   \n",
       "1_AAACCTGAGAAGGGTA-1     Liver         1   1_AAACCTGAGAAGGGTA-1   \n",
       "1_AAACCTGAGACGCTTT-1     Liver         1   1_AAACCTGAGACGCTTT-1   \n",
       "1_AAACCTGAGCCAGGAT-1     Liver         1   1_AAACCTGAGCCAGGAT-1   \n",
       "1_AAACCTGAGGCATGGT-1     Liver         1   1_AAACCTGAGGCATGGT-1   \n",
       "...                        ...       ...                    ...   \n",
       "19_TTTGTCAGTTCAGCGC-1  Primary         4  19_TTTGTCAGTTCAGCGC-1   \n",
       "19_TTTGTCATCACGCATA-1  Primary         4  19_TTTGTCATCACGCATA-1   \n",
       "19_TTTGTCATCAGAAATG-1  Primary         4  19_TTTGTCATCAGAAATG-1   \n",
       "19_TTTGTCATCCCATTAT-1  Primary         4  19_TTTGTCATCCCATTAT-1   \n",
       "19_TTTGTCATCTGGTTCC-1  Primary         4  19_TTTGTCATCTGGTTCC-1   \n",
       "\n",
       "                       Human_percent  Human_cells  Lib_size  Genes_detected  \\\n",
       "1_AAACCTGAGAAACCGC-1       99.876868         True     30012            5353   \n",
       "1_AAACCTGAGAAGGGTA-1       99.889164         True     11716            3163   \n",
       "1_AAACCTGAGACGCTTT-1       99.849936         True     13973            3791   \n",
       "1_AAACCTGAGCCAGGAT-1       99.903257         True      6196            2363   \n",
       "1_AAACCTGAGGCATGGT-1       99.653922         True      6047            2183   \n",
       "...                              ...          ...       ...             ...   \n",
       "19_TTTGTCAGTTCAGCGC-1      99.921701         True     16590            4255   \n",
       "19_TTTGTCATCACGCATA-1      99.380805         True       963             645   \n",
       "19_TTTGTCATCAGAAATG-1      99.957188         True     11674            3240   \n",
       "19_TTTGTCATCCCATTAT-1      99.929867         True      9974            3032   \n",
       "19_TTTGTCATCTGGTTCC-1      99.796831         True      2456            1303   \n",
       "\n",
       "                       ...  Spectral_9_cluster  Leiden_start_cluster_0.2_opt  \\\n",
       "1_AAACCTGAGAAACCGC-1   ...                   8                             3   \n",
       "1_AAACCTGAGAAGGGTA-1   ...                   5                             1   \n",
       "1_AAACCTGAGACGCTTT-1   ...                   7                             3   \n",
       "1_AAACCTGAGCCAGGAT-1   ...                   5                             1   \n",
       "1_AAACCTGAGGCATGGT-1   ...                   3                             1   \n",
       "...                    ...                 ...                           ...   \n",
       "19_TTTGTCAGTTCAGCGC-1  ...                   5                             1   \n",
       "19_TTTGTCATCACGCATA-1  ...                   1                             0   \n",
       "19_TTTGTCATCAGAAATG-1  ...                   7                             3   \n",
       "19_TTTGTCATCCCATTAT-1  ...                   4                             3   \n",
       "19_TTTGTCATCTGGTTCC-1  ...                   1                             0   \n",
       "\n",
       "                       Leiden_start_cluster_0.3_opt  \\\n",
       "1_AAACCTGAGAAACCGC-1                              4   \n",
       "1_AAACCTGAGAAGGGTA-1                              2   \n",
       "1_AAACCTGAGACGCTTT-1                              4   \n",
       "1_AAACCTGAGCCAGGAT-1                              2   \n",
       "1_AAACCTGAGGCATGGT-1                              0   \n",
       "...                                             ...   \n",
       "19_TTTGTCAGTTCAGCGC-1                             2   \n",
       "19_TTTGTCATCACGCATA-1                             0   \n",
       "19_TTTGTCATCAGAAATG-1                             4   \n",
       "19_TTTGTCATCCCATTAT-1                             4   \n",
       "19_TTTGTCATCTGGTTCC-1                             0   \n",
       "\n",
       "                       Leiden_start_cluster_0.4_opt  \\\n",
       "1_AAACCTGAGAAACCGC-1                              5   \n",
       "1_AAACCTGAGAAGGGTA-1                              3   \n",
       "1_AAACCTGAGACGCTTT-1                              5   \n",
       "1_AAACCTGAGCCAGGAT-1                              3   \n",
       "1_AAACCTGAGGCATGGT-1                              1   \n",
       "...                                             ...   \n",
       "19_TTTGTCAGTTCAGCGC-1                             3   \n",
       "19_TTTGTCATCACGCATA-1                             0   \n",
       "19_TTTGTCATCAGAAATG-1                             5   \n",
       "19_TTTGTCATCCCATTAT-1                             5   \n",
       "19_TTTGTCATCTGGTTCC-1                             0   \n",
       "\n",
       "                       Leiden_start_cluster_0.5_opt  \\\n",
       "1_AAACCTGAGAAACCGC-1                              7   \n",
       "1_AAACCTGAGAAGGGTA-1                              3   \n",
       "1_AAACCTGAGACGCTTT-1                              7   \n",
       "1_AAACCTGAGCCAGGAT-1                              4   \n",
       "1_AAACCTGAGGCATGGT-1                              0   \n",
       "...                                             ...   \n",
       "19_TTTGTCAGTTCAGCGC-1                             4   \n",
       "19_TTTGTCATCACGCATA-1                             1   \n",
       "19_TTTGTCATCAGAAATG-1                             2   \n",
       "19_TTTGTCATCCCATTAT-1                             2   \n",
       "19_TTTGTCATCTGGTTCC-1                             1   \n",
       "\n",
       "                       Leiden_start_cluster_0.6_opt  \\\n",
       "1_AAACCTGAGAAACCGC-1                              8   \n",
       "1_AAACCTGAGAAGGGTA-1                              4   \n",
       "1_AAACCTGAGACGCTTT-1                              8   \n",
       "1_AAACCTGAGCCAGGAT-1                              5   \n",
       "1_AAACCTGAGGCATGGT-1                              2   \n",
       "...                                             ...   \n",
       "19_TTTGTCAGTTCAGCGC-1                             5   \n",
       "19_TTTGTCATCACGCATA-1                             1   \n",
       "19_TTTGTCATCAGAAATG-1                             3   \n",
       "19_TTTGTCATCCCATTAT-1                             3   \n",
       "19_TTTGTCATCTGGTTCC-1                             1   \n",
       "\n",
       "                      Leiden_start_cluster_0.7_opt  \\\n",
       "1_AAACCTGAGAAACCGC-1                             9   \n",
       "1_AAACCTGAGAAGGGTA-1                             5   \n",
       "1_AAACCTGAGACGCTTT-1                             9   \n",
       "1_AAACCTGAGCCAGGAT-1                             7   \n",
       "1_AAACCTGAGGCATGGT-1                             2   \n",
       "...                                            ...   \n",
       "19_TTTGTCAGTTCAGCGC-1                            7   \n",
       "19_TTTGTCATCACGCATA-1                            1   \n",
       "19_TTTGTCATCAGAAATG-1                            3   \n",
       "19_TTTGTCATCCCATTAT-1                            3   \n",
       "19_TTTGTCATCTGGTTCC-1                            1   \n",
       "\n",
       "                      Leiden_start_cluster_0.8_opt  \\\n",
       "1_AAACCTGAGAAACCGC-1                             9   \n",
       "1_AAACCTGAGAAGGGTA-1                             4   \n",
       "1_AAACCTGAGACGCTTT-1                             3   \n",
       "1_AAACCTGAGCCAGGAT-1                             5   \n",
       "1_AAACCTGAGGCATGGT-1                             2   \n",
       "...                                            ...   \n",
       "19_TTTGTCAGTTCAGCGC-1                            5   \n",
       "19_TTTGTCATCACGCATA-1                            1   \n",
       "19_TTTGTCATCAGAAATG-1                            3   \n",
       "19_TTTGTCATCCCATTAT-1                            3   \n",
       "19_TTTGTCATCTGGTTCC-1                            1   \n",
       "\n",
       "                      Leiden_start_cluster_0.9_opt  \\\n",
       "1_AAACCTGAGAAACCGC-1                            10   \n",
       "1_AAACCTGAGAAGGGTA-1                             4   \n",
       "1_AAACCTGAGACGCTTT-1                             3   \n",
       "1_AAACCTGAGCCAGGAT-1                             7   \n",
       "1_AAACCTGAGGCATGGT-1                             2   \n",
       "...                                            ...   \n",
       "19_TTTGTCAGTTCAGCGC-1                            7   \n",
       "19_TTTGTCATCACGCATA-1                            1   \n",
       "19_TTTGTCATCAGAAATG-1                            3   \n",
       "19_TTTGTCATCCCATTAT-1                            3   \n",
       "19_TTTGTCATCTGGTTCC-1                            1   \n",
       "\n",
       "                      Leiden_start_cluster_1.0_opt  \n",
       "1_AAACCTGAGAAACCGC-1                            10  \n",
       "1_AAACCTGAGAAGGGTA-1                             4  \n",
       "1_AAACCTGAGACGCTTT-1                            10  \n",
       "1_AAACCTGAGCCAGGAT-1                             7  \n",
       "1_AAACCTGAGGCATGGT-1                             2  \n",
       "...                                            ...  \n",
       "19_TTTGTCAGTTCAGCGC-1                            7  \n",
       "19_TTTGTCATCACGCATA-1                            1  \n",
       "19_TTTGTCATCAGAAATG-1                            3  \n",
       "19_TTTGTCATCCCATTAT-1                            3  \n",
       "19_TTTGTCATCTGGTTCC-1                            1  \n",
       "\n",
       "[140813 rows x 32 columns]"
      ]
     },
     "execution_count": 4,
     "metadata": {},
     "output_type": "execute_result"
    }
   ],
   "source": [
    "adata.obs"
   ]
  },
  {
   "cell_type": "code",
   "execution_count": 6,
   "metadata": {},
   "outputs": [
    {
     "data": {
      "text/html": [
       "<div>\n",
       "<style scoped>\n",
       "    .dataframe tbody tr th:only-of-type {\n",
       "        vertical-align: middle;\n",
       "    }\n",
       "\n",
       "    .dataframe tbody tr th {\n",
       "        vertical-align: top;\n",
       "    }\n",
       "\n",
       "    .dataframe thead th {\n",
       "        text-align: right;\n",
       "    }\n",
       "</style>\n",
       "<table border=\"1\" class=\"dataframe\">\n",
       "  <thead>\n",
       "    <tr style=\"text-align: right;\">\n",
       "      <th></th>\n",
       "      <th>ID</th>\n",
       "      <th>Symbol</th>\n",
       "      <th>Type</th>\n",
       "      <th>GeneSymbol</th>\n",
       "      <th>Organism</th>\n",
       "      <th>Ensembl</th>\n",
       "      <th>Liver_active</th>\n",
       "      <th>LN_active</th>\n",
       "      <th>Lung_active</th>\n",
       "      <th>Primary_active</th>\n",
       "      <th>Any_Active</th>\n",
       "      <th>highly_variable_whole</th>\n",
       "      <th>highly_variable_rep_1</th>\n",
       "      <th>highly_variable_rep_2</th>\n",
       "      <th>highly_variable_rep_3</th>\n",
       "      <th>highly_variable_rep_4</th>\n",
       "      <th>HVG_num</th>\n",
       "      <th>highly_variable</th>\n",
       "    </tr>\n",
       "  </thead>\n",
       "  <tbody>\n",
       "    <tr>\n",
       "      <th>NOC2L</th>\n",
       "      <td>GRCh38_ENSG00000188976</td>\n",
       "      <td>GRCh38_NOC2L</td>\n",
       "      <td>Gene Expression</td>\n",
       "      <td>NOC2L</td>\n",
       "      <td>GRCh38</td>\n",
       "      <td>ENSG00000188976</td>\n",
       "      <td>True</td>\n",
       "      <td>True</td>\n",
       "      <td>True</td>\n",
       "      <td>True</td>\n",
       "      <td>True</td>\n",
       "      <td>True</td>\n",
       "      <td>True</td>\n",
       "      <td>True</td>\n",
       "      <td>True</td>\n",
       "      <td>True</td>\n",
       "      <td>4</td>\n",
       "      <td>True</td>\n",
       "    </tr>\n",
       "    <tr>\n",
       "      <th>ISG15</th>\n",
       "      <td>GRCh38_ENSG00000187608</td>\n",
       "      <td>GRCh38_ISG15</td>\n",
       "      <td>Gene Expression</td>\n",
       "      <td>ISG15</td>\n",
       "      <td>GRCh38</td>\n",
       "      <td>ENSG00000187608</td>\n",
       "      <td>True</td>\n",
       "      <td>True</td>\n",
       "      <td>True</td>\n",
       "      <td>True</td>\n",
       "      <td>True</td>\n",
       "      <td>True</td>\n",
       "      <td>True</td>\n",
       "      <td>True</td>\n",
       "      <td>True</td>\n",
       "      <td>True</td>\n",
       "      <td>4</td>\n",
       "      <td>True</td>\n",
       "    </tr>\n",
       "    <tr>\n",
       "      <th>AGRN</th>\n",
       "      <td>GRCh38_ENSG00000188157</td>\n",
       "      <td>GRCh38_AGRN</td>\n",
       "      <td>Gene Expression</td>\n",
       "      <td>AGRN</td>\n",
       "      <td>GRCh38</td>\n",
       "      <td>ENSG00000188157</td>\n",
       "      <td>True</td>\n",
       "      <td>True</td>\n",
       "      <td>True</td>\n",
       "      <td>True</td>\n",
       "      <td>True</td>\n",
       "      <td>True</td>\n",
       "      <td>True</td>\n",
       "      <td>False</td>\n",
       "      <td>False</td>\n",
       "      <td>True</td>\n",
       "      <td>2</td>\n",
       "      <td>True</td>\n",
       "    </tr>\n",
       "    <tr>\n",
       "      <th>SDF4</th>\n",
       "      <td>GRCh38_ENSG00000078808</td>\n",
       "      <td>GRCh38_SDF4</td>\n",
       "      <td>Gene Expression</td>\n",
       "      <td>SDF4</td>\n",
       "      <td>GRCh38</td>\n",
       "      <td>ENSG00000078808</td>\n",
       "      <td>True</td>\n",
       "      <td>True</td>\n",
       "      <td>True</td>\n",
       "      <td>True</td>\n",
       "      <td>True</td>\n",
       "      <td>True</td>\n",
       "      <td>True</td>\n",
       "      <td>False</td>\n",
       "      <td>True</td>\n",
       "      <td>True</td>\n",
       "      <td>3</td>\n",
       "      <td>True</td>\n",
       "    </tr>\n",
       "    <tr>\n",
       "      <th>UBE2J2</th>\n",
       "      <td>GRCh38_ENSG00000160087</td>\n",
       "      <td>GRCh38_UBE2J2</td>\n",
       "      <td>Gene Expression</td>\n",
       "      <td>UBE2J2</td>\n",
       "      <td>GRCh38</td>\n",
       "      <td>ENSG00000160087</td>\n",
       "      <td>True</td>\n",
       "      <td>True</td>\n",
       "      <td>True</td>\n",
       "      <td>True</td>\n",
       "      <td>True</td>\n",
       "      <td>False</td>\n",
       "      <td>True</td>\n",
       "      <td>True</td>\n",
       "      <td>False</td>\n",
       "      <td>False</td>\n",
       "      <td>2</td>\n",
       "      <td>True</td>\n",
       "    </tr>\n",
       "    <tr>\n",
       "      <th>...</th>\n",
       "      <td>...</td>\n",
       "      <td>...</td>\n",
       "      <td>...</td>\n",
       "      <td>...</td>\n",
       "      <td>...</td>\n",
       "      <td>...</td>\n",
       "      <td>...</td>\n",
       "      <td>...</td>\n",
       "      <td>...</td>\n",
       "      <td>...</td>\n",
       "      <td>...</td>\n",
       "      <td>...</td>\n",
       "      <td>...</td>\n",
       "      <td>...</td>\n",
       "      <td>...</td>\n",
       "      <td>...</td>\n",
       "      <td>...</td>\n",
       "      <td>...</td>\n",
       "    </tr>\n",
       "    <tr>\n",
       "      <th>MT-ND4L</th>\n",
       "      <td>GRCh38_ENSG00000212907</td>\n",
       "      <td>GRCh38_MT-ND4L</td>\n",
       "      <td>Gene Expression</td>\n",
       "      <td>MT-ND4L</td>\n",
       "      <td>GRCh38</td>\n",
       "      <td>ENSG00000212907</td>\n",
       "      <td>True</td>\n",
       "      <td>True</td>\n",
       "      <td>True</td>\n",
       "      <td>True</td>\n",
       "      <td>True</td>\n",
       "      <td>True</td>\n",
       "      <td>True</td>\n",
       "      <td>True</td>\n",
       "      <td>True</td>\n",
       "      <td>True</td>\n",
       "      <td>4</td>\n",
       "      <td>True</td>\n",
       "    </tr>\n",
       "    <tr>\n",
       "      <th>MT-ND4</th>\n",
       "      <td>GRCh38_ENSG00000198886</td>\n",
       "      <td>GRCh38_MT-ND4</td>\n",
       "      <td>Gene Expression</td>\n",
       "      <td>MT-ND4</td>\n",
       "      <td>GRCh38</td>\n",
       "      <td>ENSG00000198886</td>\n",
       "      <td>True</td>\n",
       "      <td>True</td>\n",
       "      <td>True</td>\n",
       "      <td>True</td>\n",
       "      <td>True</td>\n",
       "      <td>True</td>\n",
       "      <td>True</td>\n",
       "      <td>True</td>\n",
       "      <td>True</td>\n",
       "      <td>True</td>\n",
       "      <td>4</td>\n",
       "      <td>True</td>\n",
       "    </tr>\n",
       "    <tr>\n",
       "      <th>MT-ND5</th>\n",
       "      <td>GRCh38_ENSG00000198786</td>\n",
       "      <td>GRCh38_MT-ND5</td>\n",
       "      <td>Gene Expression</td>\n",
       "      <td>MT-ND5</td>\n",
       "      <td>GRCh38</td>\n",
       "      <td>ENSG00000198786</td>\n",
       "      <td>True</td>\n",
       "      <td>True</td>\n",
       "      <td>True</td>\n",
       "      <td>True</td>\n",
       "      <td>True</td>\n",
       "      <td>True</td>\n",
       "      <td>True</td>\n",
       "      <td>True</td>\n",
       "      <td>True</td>\n",
       "      <td>True</td>\n",
       "      <td>4</td>\n",
       "      <td>True</td>\n",
       "    </tr>\n",
       "    <tr>\n",
       "      <th>MT-ND6</th>\n",
       "      <td>GRCh38_ENSG00000198695</td>\n",
       "      <td>GRCh38_MT-ND6</td>\n",
       "      <td>Gene Expression</td>\n",
       "      <td>MT-ND6</td>\n",
       "      <td>GRCh38</td>\n",
       "      <td>ENSG00000198695</td>\n",
       "      <td>True</td>\n",
       "      <td>True</td>\n",
       "      <td>True</td>\n",
       "      <td>True</td>\n",
       "      <td>True</td>\n",
       "      <td>True</td>\n",
       "      <td>True</td>\n",
       "      <td>True</td>\n",
       "      <td>True</td>\n",
       "      <td>True</td>\n",
       "      <td>4</td>\n",
       "      <td>True</td>\n",
       "    </tr>\n",
       "    <tr>\n",
       "      <th>MT-CYB</th>\n",
       "      <td>GRCh38_ENSG00000198727</td>\n",
       "      <td>GRCh38_MT-CYB</td>\n",
       "      <td>Gene Expression</td>\n",
       "      <td>MT-CYB</td>\n",
       "      <td>GRCh38</td>\n",
       "      <td>ENSG00000198727</td>\n",
       "      <td>True</td>\n",
       "      <td>True</td>\n",
       "      <td>True</td>\n",
       "      <td>True</td>\n",
       "      <td>True</td>\n",
       "      <td>True</td>\n",
       "      <td>True</td>\n",
       "      <td>True</td>\n",
       "      <td>True</td>\n",
       "      <td>True</td>\n",
       "      <td>4</td>\n",
       "      <td>True</td>\n",
       "    </tr>\n",
       "  </tbody>\n",
       "</table>\n",
       "<p>5551 rows × 18 columns</p>\n",
       "</div>"
      ],
      "text/plain": [
       "                             ID          Symbol             Type GeneSymbol  \\\n",
       "NOC2L    GRCh38_ENSG00000188976    GRCh38_NOC2L  Gene Expression      NOC2L   \n",
       "ISG15    GRCh38_ENSG00000187608    GRCh38_ISG15  Gene Expression      ISG15   \n",
       "AGRN     GRCh38_ENSG00000188157     GRCh38_AGRN  Gene Expression       AGRN   \n",
       "SDF4     GRCh38_ENSG00000078808     GRCh38_SDF4  Gene Expression       SDF4   \n",
       "UBE2J2   GRCh38_ENSG00000160087   GRCh38_UBE2J2  Gene Expression     UBE2J2   \n",
       "...                         ...             ...              ...        ...   \n",
       "MT-ND4L  GRCh38_ENSG00000212907  GRCh38_MT-ND4L  Gene Expression    MT-ND4L   \n",
       "MT-ND4   GRCh38_ENSG00000198886   GRCh38_MT-ND4  Gene Expression     MT-ND4   \n",
       "MT-ND5   GRCh38_ENSG00000198786   GRCh38_MT-ND5  Gene Expression     MT-ND5   \n",
       "MT-ND6   GRCh38_ENSG00000198695   GRCh38_MT-ND6  Gene Expression     MT-ND6   \n",
       "MT-CYB   GRCh38_ENSG00000198727   GRCh38_MT-CYB  Gene Expression     MT-CYB   \n",
       "\n",
       "        Organism          Ensembl  Liver_active  LN_active  Lung_active  \\\n",
       "NOC2L     GRCh38  ENSG00000188976          True       True         True   \n",
       "ISG15     GRCh38  ENSG00000187608          True       True         True   \n",
       "AGRN      GRCh38  ENSG00000188157          True       True         True   \n",
       "SDF4      GRCh38  ENSG00000078808          True       True         True   \n",
       "UBE2J2    GRCh38  ENSG00000160087          True       True         True   \n",
       "...          ...              ...           ...        ...          ...   \n",
       "MT-ND4L   GRCh38  ENSG00000212907          True       True         True   \n",
       "MT-ND4    GRCh38  ENSG00000198886          True       True         True   \n",
       "MT-ND5    GRCh38  ENSG00000198786          True       True         True   \n",
       "MT-ND6    GRCh38  ENSG00000198695          True       True         True   \n",
       "MT-CYB    GRCh38  ENSG00000198727          True       True         True   \n",
       "\n",
       "         Primary_active  Any_Active  highly_variable_whole  \\\n",
       "NOC2L              True        True                   True   \n",
       "ISG15              True        True                   True   \n",
       "AGRN               True        True                   True   \n",
       "SDF4               True        True                   True   \n",
       "UBE2J2             True        True                  False   \n",
       "...                 ...         ...                    ...   \n",
       "MT-ND4L            True        True                   True   \n",
       "MT-ND4             True        True                   True   \n",
       "MT-ND5             True        True                   True   \n",
       "MT-ND6             True        True                   True   \n",
       "MT-CYB             True        True                   True   \n",
       "\n",
       "         highly_variable_rep_1  highly_variable_rep_2  highly_variable_rep_3  \\\n",
       "NOC2L                     True                   True                   True   \n",
       "ISG15                     True                   True                   True   \n",
       "AGRN                      True                  False                  False   \n",
       "SDF4                      True                  False                   True   \n",
       "UBE2J2                    True                   True                  False   \n",
       "...                        ...                    ...                    ...   \n",
       "MT-ND4L                   True                   True                   True   \n",
       "MT-ND4                    True                   True                   True   \n",
       "MT-ND5                    True                   True                   True   \n",
       "MT-ND6                    True                   True                   True   \n",
       "MT-CYB                    True                   True                   True   \n",
       "\n",
       "         highly_variable_rep_4  HVG_num  highly_variable  \n",
       "NOC2L                     True        4             True  \n",
       "ISG15                     True        4             True  \n",
       "AGRN                      True        2             True  \n",
       "SDF4                      True        3             True  \n",
       "UBE2J2                   False        2             True  \n",
       "...                        ...      ...              ...  \n",
       "MT-ND4L                   True        4             True  \n",
       "MT-ND4                    True        4             True  \n",
       "MT-ND5                    True        4             True  \n",
       "MT-ND6                    True        4             True  \n",
       "MT-CYB                    True        4             True  \n",
       "\n",
       "[5551 rows x 18 columns]"
      ]
     },
     "execution_count": 6,
     "metadata": {},
     "output_type": "execute_result"
    }
   ],
   "source": [
    "adata.var"
   ]
  },
  {
   "cell_type": "code",
   "execution_count": 7,
   "metadata": {},
   "outputs": [
    {
     "data": {
      "text/plain": [
       "<AxesSubplot:>"
      ]
     },
     "execution_count": 7,
     "metadata": {},
     "output_type": "execute_result"
    },
    {
     "data": {
      "image/png": "[encoded data removed]",
      "text/plain": [
       "<Figure size 432x288 with 1 Axes>"
      ]
     },
     "metadata": {
      "needs_background": "light"
     },
     "output_type": "display_data"
    }
   ],
   "source": [
    "scprep.plot.scatter2d(adata.obsm['X_phate_MNN'])"
   ]
  },
  {
   "cell_type": "code",
   "execution_count": 9,
   "metadata": {},
   "outputs": [
    {
     "data": {
      "text/plain": [
       "<AxesSubplot:>"
      ]
     },
     "execution_count": 9,
     "metadata": {},
     "output_type": "execute_result"
    },
    {
     "data": {
      "image/png": "[encoded data removed]",
      "text/plain": [
       "<Figure size 432x288 with 1 Axes>"
      ]
     },
     "metadata": {
      "needs_background": "light"
     },
     "output_type": "display_data"
    }
   ],
   "source": [
    "scprep.plot.scatter2d(adata.obsm['X_phate_nobatch'])"
   ]
  },
  {
   "cell_type": "code",
   "execution_count": 6,
   "metadata": {},
   "outputs": [
    {
     "name": "stdout",
     "output_type": "stream",
     "text": [
      "(140813, 5551)\n"
     ]
    },
    {
     "data": {
      "text/plain": [
       "array([[ 0.28671956, -1.0372977 , -0.3916501 , ..., -1.2367742 ,\n",
       "         0.02306795, -0.8362508 ],\n",
       "       [ 0.3942809 , -0.11338943,  0.53225815, ..., -0.2553115 ,\n",
       "        -0.5541765 ,  1.8178916 ],\n",
       "       [ 0.6668411 ,  0.15917075, -0.3916501 , ..., -0.68055916,\n",
       "         0.9111921 , -0.56027985],\n",
       "       ...,\n",
       "       [ 0.4879433 ,  0.64135873, -0.39232627, ..., -0.6921387 ,\n",
       "        -0.4220656 , -2.3801208 ],\n",
       "       [ 0.5636874 ,  0.5245353 ,  1.0238004 , ...,  0.24337578,\n",
       "        -0.4220656 ,  1.7793436 ],\n",
       "       [-0.43766528, -1.2098584 , -0.39232627, ...,  0.7518215 ,\n",
       "        -0.4220656 , -1.2413473 ]], dtype=float32)"
      ]
     },
     "execution_count": 6,
     "metadata": {},
     "output_type": "execute_result"
    }
   ],
   "source": [
    "adata_data = adata.X.toarray()\n",
    "print(adata_data.shape)\n",
    "adata_data"
   ]
  },
  {
   "cell_type": "code",
   "execution_count": 7,
   "metadata": {},
   "outputs": [
    {
     "data": {
      "text/plain": [
       "<AxesSubplot:xlabel='Library size', ylabel='Number of cells'>"
      ]
     },
     "execution_count": 7,
     "metadata": {},
     "output_type": "execute_result"
    },
    {
     "data": {
      "image/png": "[encoded data removed]",
      "text/plain": [
       "<Figure size 432x288 with 1 Axes>"
      ]
     },
     "metadata": {
      "needs_background": "light"
     },
     "output_type": "display_data"
    }
   ],
   "source": [
    "scprep.plot.plot_library_size(adata_data, log='False')"
   ]
  },
  {
   "cell_type": "code",
   "execution_count": 8,
   "metadata": {},
   "outputs": [
    {
     "data": {
      "text/plain": [
       "<AxesSubplot:xlabel='Library size', ylabel='Number of cells'>"
      ]
     },
     "execution_count": 8,
     "metadata": {},
     "output_type": "execute_result"
    },
    {
     "data": {
      "image/png": "[encoded data removed]",
      "text/plain": [
       "<Figure size 432x288 with 1 Axes>"
      ]
     },
     "metadata": {
      "needs_background": "light"
     },
     "output_type": "display_data"
    }
   ],
   "source": [
    "adata_data = scprep.filter.filter_rare_genes(adata_data)\n",
    "scprep.plot.plot_library_size(adata_data, log='False')"
   ]
  },
  {
   "cell_type": "markdown",
   "metadata": {},
   "source": [
    "# Old dataset"
   ]
  },
  {
   "cell_type": "code",
   "execution_count": 3,
   "metadata": {},
   "outputs": [
    {
     "name": "stderr",
     "output_type": "stream",
     "text": [
      "/home/anniegao/spatial_magan/venv/lib/python3.8/site-packages/scprep/io/tenx.py:43: RuntimeWarning: Duplicate gene names detected! Forcing `gene_labels='both'`. Alternatively, try `gene_labels='id'`, `allow_duplicates=True`, or load the matrix with `sparse=False`\n",
      "  warnings.warn(\n"
     ]
    },
    {
     "name": "stdout",
     "output_type": "stream",
     "text": [
      "(4992, 32285)\n"
     ]
    }
   ],
   "source": [
    "path = '/data/fenggao/spatial_magan/R_200620_SCOYOU_INT_10X_Visium/scott/Visium/Annelie_S5/outs/raw_feature_bc_matrix'\n",
    "data = scprep.io.load_10X(path)\n",
    "print(data.shape)"
   ]
  },
  {
   "cell_type": "code",
   "execution_count": 12,
   "metadata": {},
   "outputs": [
    {
     "data": {
      "text/plain": [
       "<bound method NDFrame.head of                     Sox17 (ENSMUSG00000025902)  Mrpl15 (ENSMUSG00000033845)  \\\n",
       "0                                                                             \n",
       "AAACAACGAATAGTTC-1                         0.0                          0.0   \n",
       "AAACAAGTATCTCCCA-1                         0.0                          1.0   \n",
       "AAACAATCTACTAGCA-1                         0.0                          0.0   \n",
       "AAACACCAATAACTGC-1                         0.0                          0.0   \n",
       "AAACAGAGCGACTCCT-1                         0.0                          0.0   \n",
       "...                                        ...                          ...   \n",
       "TTGTTTCACATCCAGG-1                         0.0                          0.0   \n",
       "TTGTTTCATTAGTCTA-1                         0.0                          0.0   \n",
       "TTGTTTCCATACAACT-1                         0.0                          0.0   \n",
       "TTGTTTGTATTACACG-1                         0.0                          0.0   \n",
       "TTGTTTGTGTAAATTC-1                         0.0                          0.0   \n",
       "\n",
       "                    Lypla1 (ENSMUSG00000025903)  Tcea1 (ENSMUSG00000033813)  \\\n",
       "0                                                                             \n",
       "AAACAACGAATAGTTC-1                          0.0                         0.0   \n",
       "AAACAAGTATCTCCCA-1                          0.0                         0.0   \n",
       "AAACAATCTACTAGCA-1                          0.0                         0.0   \n",
       "AAACACCAATAACTGC-1                          0.0                         0.0   \n",
       "AAACAGAGCGACTCCT-1                          0.0                         0.0   \n",
       "...                                         ...                         ...   \n",
       "TTGTTTCACATCCAGG-1                          0.0                         0.0   \n",
       "TTGTTTCATTAGTCTA-1                          0.0                         0.0   \n",
       "TTGTTTCCATACAACT-1                          0.0                         0.0   \n",
       "TTGTTTGTATTACACG-1                          0.0                         0.0   \n",
       "TTGTTTGTGTAAATTC-1                          0.0                         0.0   \n",
       "\n",
       "                    Rgs20 (ENSMUSG00000002459)  Atp6v1h (ENSMUSG00000033793)  \\\n",
       "0                                                                              \n",
       "AAACAACGAATAGTTC-1                         0.0                           0.0   \n",
       "AAACAAGTATCTCCCA-1                         0.0                           0.0   \n",
       "AAACAATCTACTAGCA-1                         0.0                           0.0   \n",
       "AAACACCAATAACTGC-1                         0.0                           0.0   \n",
       "AAACAGAGCGACTCCT-1                         0.0                           0.0   \n",
       "...                                        ...                           ...   \n",
       "TTGTTTCACATCCAGG-1                         0.0                           0.0   \n",
       "TTGTTTCATTAGTCTA-1                         0.0                           0.0   \n",
       "TTGTTTCCATACAACT-1                         0.0                           1.0   \n",
       "TTGTTTGTATTACACG-1                         0.0                           0.0   \n",
       "TTGTTTGTGTAAATTC-1                         0.0                           0.0   \n",
       "\n",
       "                    Rb1cc1 (ENSMUSG00000025907)  \\\n",
       "0                                                 \n",
       "AAACAACGAATAGTTC-1                          0.0   \n",
       "AAACAAGTATCTCCCA-1                          0.0   \n",
       "AAACAATCTACTAGCA-1                          0.0   \n",
       "AAACACCAATAACTGC-1                          0.0   \n",
       "AAACAGAGCGACTCCT-1                          0.0   \n",
       "...                                         ...   \n",
       "TTGTTTCACATCCAGG-1                          0.0   \n",
       "TTGTTTCATTAGTCTA-1                          0.0   \n",
       "TTGTTTCCATACAACT-1                          0.0   \n",
       "TTGTTTGTATTACACG-1                          0.0   \n",
       "TTGTTTGTGTAAATTC-1                          0.0   \n",
       "\n",
       "                    4732440D04Rik (ENSMUSG00000090031)  \\\n",
       "0                                                        \n",
       "AAACAACGAATAGTTC-1                                 0.0   \n",
       "AAACAAGTATCTCCCA-1                                 0.0   \n",
       "AAACAATCTACTAGCA-1                                 0.0   \n",
       "AAACACCAATAACTGC-1                                 0.0   \n",
       "AAACAGAGCGACTCCT-1                                 0.0   \n",
       "...                                                ...   \n",
       "TTGTTTCACATCCAGG-1                                 0.0   \n",
       "TTGTTTCATTAGTCTA-1                                 0.0   \n",
       "TTGTTTCCATACAACT-1                                 0.0   \n",
       "TTGTTTGTATTACACG-1                                 0.0   \n",
       "TTGTTTGTGTAAATTC-1                                 0.0   \n",
       "\n",
       "                    St18 (ENSMUSG00000033740)  Pcmtd1 (ENSMUSG00000051285)  \\\n",
       "0                                                                            \n",
       "AAACAACGAATAGTTC-1                        0.0                          0.0   \n",
       "AAACAAGTATCTCCCA-1                        0.0                          0.0   \n",
       "AAACAATCTACTAGCA-1                        0.0                          0.0   \n",
       "AAACACCAATAACTGC-1                        0.0                          0.0   \n",
       "AAACAGAGCGACTCCT-1                        0.0                          0.0   \n",
       "...                                       ...                          ...   \n",
       "TTGTTTCACATCCAGG-1                        0.0                          0.0   \n",
       "TTGTTTCATTAGTCTA-1                        0.0                          0.0   \n",
       "TTGTTTCCATACAACT-1                        0.0                          0.0   \n",
       "TTGTTTGTATTACACG-1                        0.0                          0.0   \n",
       "TTGTTTGTGTAAATTC-1                        0.0                          0.0   \n",
       "\n",
       "                    ...  mt-Cytb (ENSMUSG00000064370)  \\\n",
       "0                   ...                                 \n",
       "AAACAACGAATAGTTC-1  ...                           0.0   \n",
       "AAACAAGTATCTCCCA-1  ...                           0.0   \n",
       "AAACAATCTACTAGCA-1  ...                           0.0   \n",
       "AAACACCAATAACTGC-1  ...                           0.0   \n",
       "AAACAGAGCGACTCCT-1  ...                           0.0   \n",
       "...                 ...                           ...   \n",
       "TTGTTTCACATCCAGG-1  ...                           0.0   \n",
       "TTGTTTCATTAGTCTA-1  ...                           0.0   \n",
       "TTGTTTCCATACAACT-1  ...                           2.0   \n",
       "TTGTTTGTATTACACG-1  ...                           0.0   \n",
       "TTGTTTGTGTAAATTC-1  ...                           1.0   \n",
       "\n",
       "                    AC133103.1 (ENSMUSG00000079190)  \\\n",
       "0                                                     \n",
       "AAACAACGAATAGTTC-1                              0.0   \n",
       "AAACAAGTATCTCCCA-1                              0.0   \n",
       "AAACAATCTACTAGCA-1                              0.0   \n",
       "AAACACCAATAACTGC-1                              0.0   \n",
       "AAACAGAGCGACTCCT-1                              0.0   \n",
       "...                                             ...   \n",
       "TTGTTTCACATCCAGG-1                              0.0   \n",
       "TTGTTTCATTAGTCTA-1                              0.0   \n",
       "TTGTTTCCATACAACT-1                              0.0   \n",
       "TTGTTTGTATTACACG-1                              0.0   \n",
       "TTGTTTGTGTAAATTC-1                              0.0   \n",
       "\n",
       "                    AC168977.2 (ENSMUSG00000094915)  \\\n",
       "0                                                     \n",
       "AAACAACGAATAGTTC-1                              0.0   \n",
       "AAACAAGTATCTCCCA-1                              0.0   \n",
       "AAACAATCTACTAGCA-1                              0.0   \n",
       "AAACACCAATAACTGC-1                              0.0   \n",
       "AAACAGAGCGACTCCT-1                              0.0   \n",
       "...                                             ...   \n",
       "TTGTTTCACATCCAGG-1                              0.0   \n",
       "TTGTTTCATTAGTCTA-1                              0.0   \n",
       "TTGTTTCCATACAACT-1                              0.0   \n",
       "TTGTTTGTATTACACG-1                              0.0   \n",
       "TTGTTTGTGTAAATTC-1                              0.0   \n",
       "\n",
       "                    AC168977.1 (ENSMUSG00000079808)  \\\n",
       "0                                                     \n",
       "AAACAACGAATAGTTC-1                              0.0   \n",
       "AAACAAGTATCTCCCA-1                              0.0   \n",
       "AAACAATCTACTAGCA-1                              0.0   \n",
       "AAACACCAATAACTGC-1                              0.0   \n",
       "AAACAGAGCGACTCCT-1                              0.0   \n",
       "...                                             ...   \n",
       "TTGTTTCACATCCAGG-1                              0.0   \n",
       "TTGTTTCATTAGTCTA-1                              0.0   \n",
       "TTGTTTCCATACAACT-1                              0.0   \n",
       "TTGTTTGTATTACACG-1                              0.0   \n",
       "TTGTTTGTGTAAATTC-1                              0.0   \n",
       "\n",
       "                    CAAA01118383.1 (ENSMUSG00000063897)  \\\n",
       "0                                                         \n",
       "AAACAACGAATAGTTC-1                                  0.0   \n",
       "AAACAAGTATCTCCCA-1                                  0.0   \n",
       "AAACAATCTACTAGCA-1                                  0.0   \n",
       "AAACACCAATAACTGC-1                                  0.0   \n",
       "AAACAGAGCGACTCCT-1                                  0.0   \n",
       "...                                                 ...   \n",
       "TTGTTTCACATCCAGG-1                                  0.0   \n",
       "TTGTTTCATTAGTCTA-1                                  0.0   \n",
       "TTGTTTCCATACAACT-1                                  0.0   \n",
       "TTGTTTGTATTACACG-1                                  0.0   \n",
       "TTGTTTGTGTAAATTC-1                                  0.0   \n",
       "\n",
       "                    AC132444.1 (ENSMUSG00000079222)  \\\n",
       "0                                                     \n",
       "AAACAACGAATAGTTC-1                              0.0   \n",
       "AAACAAGTATCTCCCA-1                              0.0   \n",
       "AAACAATCTACTAGCA-1                              0.0   \n",
       "AAACACCAATAACTGC-1                              0.0   \n",
       "AAACAGAGCGACTCCT-1                              0.0   \n",
       "...                                             ...   \n",
       "TTGTTTCACATCCAGG-1                              0.0   \n",
       "TTGTTTCATTAGTCTA-1                              0.0   \n",
       "TTGTTTCCATACAACT-1                              0.0   \n",
       "TTGTTTGTATTACACG-1                              0.0   \n",
       "TTGTTTGTGTAAATTC-1                              0.0   \n",
       "\n",
       "                    Csprs (ENSMUSG00000062783)  Vamp7 (ENSMUSG00000051412)  \\\n",
       "0                                                                            \n",
       "AAACAACGAATAGTTC-1                         0.0                         0.0   \n",
       "AAACAAGTATCTCCCA-1                         0.0                         0.0   \n",
       "AAACAATCTACTAGCA-1                         0.0                         0.0   \n",
       "AAACACCAATAACTGC-1                         0.0                         0.0   \n",
       "AAACAGAGCGACTCCT-1                         0.0                         0.0   \n",
       "...                                        ...                         ...   \n",
       "TTGTTTCACATCCAGG-1                         0.0                         0.0   \n",
       "TTGTTTCATTAGTCTA-1                         0.0                         0.0   \n",
       "TTGTTTCCATACAACT-1                         0.0                         0.0   \n",
       "TTGTTTGTATTACACG-1                         0.0                         0.0   \n",
       "TTGTTTGTGTAAATTC-1                         0.0                         0.0   \n",
       "\n",
       "                    Tmlhe (ENSMUSG00000079834)  \\\n",
       "0                                                \n",
       "AAACAACGAATAGTTC-1                         0.0   \n",
       "AAACAAGTATCTCCCA-1                         0.0   \n",
       "AAACAATCTACTAGCA-1                         0.0   \n",
       "AAACACCAATAACTGC-1                         0.0   \n",
       "AAACAGAGCGACTCCT-1                         0.0   \n",
       "...                                        ...   \n",
       "TTGTTTCACATCCAGG-1                         0.0   \n",
       "TTGTTTCATTAGTCTA-1                         0.0   \n",
       "TTGTTTCCATACAACT-1                         0.0   \n",
       "TTGTTTGTATTACACG-1                         0.0   \n",
       "TTGTTTGTGTAAATTC-1                         0.0   \n",
       "\n",
       "                    AC149090.1 (ENSMUSG00000095041)  \n",
       "0                                                    \n",
       "AAACAACGAATAGTTC-1                              0.0  \n",
       "AAACAAGTATCTCCCA-1                              0.0  \n",
       "AAACAATCTACTAGCA-1                              0.0  \n",
       "AAACACCAATAACTGC-1                              0.0  \n",
       "AAACAGAGCGACTCCT-1                              0.0  \n",
       "...                                             ...  \n",
       "TTGTTTCACATCCAGG-1                              0.0  \n",
       "TTGTTTCATTAGTCTA-1                              0.0  \n",
       "TTGTTTCCATACAACT-1                              0.0  \n",
       "TTGTTTGTATTACACG-1                              0.0  \n",
       "TTGTTTGTGTAAATTC-1                              0.0  \n",
       "\n",
       "[4992 rows x 13394 columns]>"
      ]
     },
     "execution_count": 12,
     "metadata": {},
     "output_type": "execute_result"
    }
   ],
   "source": [
    "data.head"
   ]
  },
  {
   "cell_type": "code",
   "execution_count": 6,
   "metadata": {},
   "outputs": [
    {
     "data": {
      "text/plain": [
       "<AxesSubplot:xlabel='Library size', ylabel='Number of cells'>"
      ]
     },
     "execution_count": 6,
     "metadata": {},
     "output_type": "execute_result"
    },
    {
     "data": {
      "image/png": "[encoded data removed]",
      "text/plain": [
       "<Figure size 432x288 with 1 Axes>"
      ]
     },
     "metadata": {
      "needs_background": "light"
     },
     "output_type": "display_data"
    }
   ],
   "source": [
    "data = scprep.filter.filter_rare_genes(data)\n",
    "scprep.plot.plot_library_size(data, log='False')"
   ]
  },
  {
   "cell_type": "code",
   "execution_count": 18,
   "metadata": {},
   "outputs": [
    {
     "data": {
      "text/plain": [
       "<AxesSubplot:xlabel='Library size', ylabel='Number of cells'>"
      ]
     },
     "execution_count": 18,
     "metadata": {},
     "output_type": "execute_result"
    },
    {
     "data": {
      "image/png": "[encoded data removed]",
      "text/plain": [
       "<Figure size 432x288 with 1 Axes>"
      ]
     },
     "metadata": {
      "needs_background": "light"
     },
     "output_type": "display_data"
    }
   ],
   "source": [
    "data = np.nan_to_num(data, copy=False)\n",
    "data = scprep.transform.sqrt(data)\n",
    "scprep.plot.plot_library_size(data, log='False')"
   ]
  }
 ],
 "metadata": {
  "kernelspec": {
   "display_name": "venv",
   "language": "python",
   "name": "venv"
  },
  "language_info": {
   "codemirror_mode": {
    "name": "ipython",
    "version": 3
   },
   "file_extension": ".py",
   "mimetype": "text/x-python",
   "name": "python",
   "nbconvert_exporter": "python",
   "pygments_lexer": "ipython3",
   "version": "3.8.5"
  }
 },
 "nbformat": 4,
 "nbformat_minor": 4
}
